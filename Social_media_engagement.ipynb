{
 "cells": [
  {
   "cell_type": "markdown",
   "metadata": {},
   "source": [
    "# *SOCIAL MEDIA ENGAGEMENT DATA*"
   ]
  },
  {
   "cell_type": "markdown",
   "metadata": {},
   "source": [
    "-------------------------------------------------------------------------------------------------------------------------"
   ]
  },
  {
   "cell_type": "markdown",
   "metadata": {},
   "source": [
    "## Introduction\n",
    "\n",
    "Data on social media engagement offers important insights into how people engage with material on different platforms. Both individuals and organizations can gain insight into the tastes and behavior of their audience by examining metrics like likes, comments, shares, and reach. This information is useful in developing methods that increase visibility, improve user interaction, and promote community development. In today's digital world, knowing these engagement patterns is essential to content optimization and impact maximization.\n"
   ]
  },
  {
   "cell_type": "markdown",
   "metadata": {},
   "source": [
    "### Dataset Overview\n",
    "\n",
    "The dataset contains information about social media engagement, focusing on various metrics that help analyze how posts perform across different demographics and times. Key features include:\n",
    "\n",
    "- **Post Timestamp:** The exact date and time when the post was published.\n",
    "- **Likes:** The number of likes each post received, indicating basic engagement.\n",
    "- **Comments:** The number of comments, reflecting deeper interaction.\n",
    "- **Shares:** The number of times the post was shared, showing the content's spread.\n",
    "- **Reach:** The number of unique users who saw the post.\n",
    "- **Impressions:** Total times the post was displayed on screens.\n",
    "- **Engagement Rate:** A calculated metric indicating overall user interaction relative to reach.\n",
    "- **Country:** The geographical location of the audience, allowing for regional analysis.\n",
    "- **Audience Age:** The age distribution of the audience engaging with the content.\n",
    "- **Audience Interest:** Interests or topics that are popular among the audience, potentially linked to engagement levels.\n",
    "\n",
    "### Data Insights\n",
    "\n",
    "- **Engagement Patterns:** By analyzing likes, comments, and shares, we can determine which types of content resonate most with audiences.\n",
    "- **Time Analysis:** The post timestamp allows for analysis of the best times to post for maximum engagement.\n",
    "- **Demographic Insights:** Understanding how different age groups and regions engage with content can guide targeted marketing strategies.\n",
    "- **Content Strategy:** Audience interests can help tailor content to better fit the preferences of different demographic segments."
   ]
  },
  {
   "cell_type": "code",
   "execution_count": 91,
   "metadata": {},
   "outputs": [],
   "source": [
    "# Importing libraries\n",
    "\n",
    "import numpy as np\n",
    "import pandas as pd\n",
    "import matplotlib.pyplot as plt\n",
    "import seaborn as sns"
   ]
  },
  {
   "cell_type": "markdown",
   "metadata": {},
   "source": [
    "## Load the dataset"
   ]
  },
  {
   "cell_type": "code",
   "execution_count": 92,
   "metadata": {},
   "outputs": [],
   "source": [
    "df=pd.read_excel(r'C:\\DataScience\\Projects\\social_media_engagement_data.xlsx')\n"
   ]
  },
  {
   "cell_type": "markdown",
   "metadata": {},
   "source": [
    "## Data Cleaning"
   ]
  },
  {
   "cell_type": "code",
   "execution_count": 93,
   "metadata": {},
   "outputs": [
    {
     "data": {
      "text/html": [
       "<div>\n",
       "<style scoped>\n",
       "    .dataframe tbody tr th:only-of-type {\n",
       "        vertical-align: middle;\n",
       "    }\n",
       "\n",
       "    .dataframe tbody tr th {\n",
       "        vertical-align: top;\n",
       "    }\n",
       "\n",
       "    .dataframe thead th {\n",
       "        text-align: right;\n",
       "    }\n",
       "</style>\n",
       "<table border=\"1\" class=\"dataframe\">\n",
       "  <thead>\n",
       "    <tr style=\"text-align: right;\">\n",
       "      <th></th>\n",
       "      <th>Post Timestamp</th>\n",
       "      <th>Likes</th>\n",
       "      <th>Comments</th>\n",
       "      <th>Shares</th>\n",
       "      <th>Impressions</th>\n",
       "      <th>Reach</th>\n",
       "      <th>Engagement Rate</th>\n",
       "      <th>Audience Age</th>\n",
       "    </tr>\n",
       "  </thead>\n",
       "  <tbody>\n",
       "    <tr>\n",
       "      <th>count</th>\n",
       "      <td>100000</td>\n",
       "      <td>100000.000000</td>\n",
       "      <td>100000.000000</td>\n",
       "      <td>100000.000000</td>\n",
       "      <td>100000.000000</td>\n",
       "      <td>100000.000000</td>\n",
       "      <td>100000.000000</td>\n",
       "      <td>100000.000000</td>\n",
       "    </tr>\n",
       "    <tr>\n",
       "      <th>mean</th>\n",
       "      <td>2022-09-09 03:59:54.133811456</td>\n",
       "      <td>499.396240</td>\n",
       "      <td>249.699200</td>\n",
       "      <td>100.118510</td>\n",
       "      <td>5487.629060</td>\n",
       "      <td>2751.519980</td>\n",
       "      <td>43.411362</td>\n",
       "      <td>41.514740</td>\n",
       "    </tr>\n",
       "    <tr>\n",
       "      <th>min</th>\n",
       "      <td>2021-03-08 19:13:37.453000</td>\n",
       "      <td>0.000000</td>\n",
       "      <td>0.000000</td>\n",
       "      <td>0.000000</td>\n",
       "      <td>1000.000000</td>\n",
       "      <td>500.000000</td>\n",
       "      <td>0.490000</td>\n",
       "      <td>18.000000</td>\n",
       "    </tr>\n",
       "    <tr>\n",
       "      <th>25%</th>\n",
       "      <td>2021-12-08 15:02:33.308499968</td>\n",
       "      <td>249.000000</td>\n",
       "      <td>124.000000</td>\n",
       "      <td>50.000000</td>\n",
       "      <td>3239.000000</td>\n",
       "      <td>1627.000000</td>\n",
       "      <td>20.030000</td>\n",
       "      <td>30.000000</td>\n",
       "    </tr>\n",
       "    <tr>\n",
       "      <th>50%</th>\n",
       "      <td>2022-09-09 14:43:13.861499904</td>\n",
       "      <td>500.000000</td>\n",
       "      <td>250.000000</td>\n",
       "      <td>100.000000</td>\n",
       "      <td>5477.000000</td>\n",
       "      <td>2754.000000</td>\n",
       "      <td>30.770000</td>\n",
       "      <td>42.000000</td>\n",
       "    </tr>\n",
       "    <tr>\n",
       "      <th>75%</th>\n",
       "      <td>2023-06-11 07:30:04.048250112</td>\n",
       "      <td>750.000000</td>\n",
       "      <td>375.000000</td>\n",
       "      <td>150.000000</td>\n",
       "      <td>7733.000000</td>\n",
       "      <td>3877.250000</td>\n",
       "      <td>52.372500</td>\n",
       "      <td>54.000000</td>\n",
       "    </tr>\n",
       "    <tr>\n",
       "      <th>max</th>\n",
       "      <td>2024-03-08 11:33:25.534000</td>\n",
       "      <td>1000.000000</td>\n",
       "      <td>500.000000</td>\n",
       "      <td>200.000000</td>\n",
       "      <td>10000.000000</td>\n",
       "      <td>5000.000000</td>\n",
       "      <td>312.550000</td>\n",
       "      <td>65.000000</td>\n",
       "    </tr>\n",
       "    <tr>\n",
       "      <th>std</th>\n",
       "      <td>NaN</td>\n",
       "      <td>289.097792</td>\n",
       "      <td>144.611199</td>\n",
       "      <td>57.924815</td>\n",
       "      <td>2594.674198</td>\n",
       "      <td>1299.359706</td>\n",
       "      <td>37.746432</td>\n",
       "      <td>13.867187</td>\n",
       "    </tr>\n",
       "  </tbody>\n",
       "</table>\n",
       "</div>"
      ],
      "text/plain": [
       "                      Post Timestamp          Likes       Comments  \\\n",
       "count                         100000  100000.000000  100000.000000   \n",
       "mean   2022-09-09 03:59:54.133811456     499.396240     249.699200   \n",
       "min       2021-03-08 19:13:37.453000       0.000000       0.000000   \n",
       "25%    2021-12-08 15:02:33.308499968     249.000000     124.000000   \n",
       "50%    2022-09-09 14:43:13.861499904     500.000000     250.000000   \n",
       "75%    2023-06-11 07:30:04.048250112     750.000000     375.000000   \n",
       "max       2024-03-08 11:33:25.534000    1000.000000     500.000000   \n",
       "std                              NaN     289.097792     144.611199   \n",
       "\n",
       "              Shares    Impressions          Reach  Engagement Rate  \\\n",
       "count  100000.000000  100000.000000  100000.000000    100000.000000   \n",
       "mean      100.118510    5487.629060    2751.519980        43.411362   \n",
       "min         0.000000    1000.000000     500.000000         0.490000   \n",
       "25%        50.000000    3239.000000    1627.000000        20.030000   \n",
       "50%       100.000000    5477.000000    2754.000000        30.770000   \n",
       "75%       150.000000    7733.000000    3877.250000        52.372500   \n",
       "max       200.000000   10000.000000    5000.000000       312.550000   \n",
       "std        57.924815    2594.674198    1299.359706        37.746432   \n",
       "\n",
       "        Audience Age  \n",
       "count  100000.000000  \n",
       "mean       41.514740  \n",
       "min        18.000000  \n",
       "25%        30.000000  \n",
       "50%        42.000000  \n",
       "75%        54.000000  \n",
       "max        65.000000  \n",
       "std        13.867187  "
      ]
     },
     "execution_count": 93,
     "metadata": {},
     "output_type": "execute_result"
    }
   ],
   "source": [
    "df.describe()"
   ]
  },
  {
   "cell_type": "code",
   "execution_count": 94,
   "metadata": {},
   "outputs": [
    {
     "name": "stdout",
     "output_type": "stream",
     "text": [
      "<class 'pandas.core.frame.DataFrame'>\n",
      "RangeIndex: 100000 entries, 0 to 99999\n",
      "Data columns (total 18 columns):\n",
      " #   Column              Non-Null Count   Dtype         \n",
      "---  ------              --------------   -----         \n",
      " 0   Platform            100000 non-null  object        \n",
      " 1   Post ID             100000 non-null  object        \n",
      " 2   Post Type           100000 non-null  object        \n",
      " 3   Post Content        100000 non-null  object        \n",
      " 4   Post Timestamp      100000 non-null  datetime64[ns]\n",
      " 5   Likes               100000 non-null  int64         \n",
      " 6   Comments            100000 non-null  int64         \n",
      " 7   Shares              100000 non-null  int64         \n",
      " 8   Impressions         100000 non-null  int64         \n",
      " 9   Reach               100000 non-null  int64         \n",
      " 10  Engagement Rate     100000 non-null  float64       \n",
      " 11  Audience Age        100000 non-null  int64         \n",
      " 12  Audience Gender     100000 non-null  object        \n",
      " 13  Audience Location   100000 non-null  object        \n",
      " 14  Audience Interests  100000 non-null  object        \n",
      " 15  Campaign ID         20132 non-null   object        \n",
      " 16  Sentiment           49900 non-null   object        \n",
      " 17  Influencer ID       9994 non-null    object        \n",
      "dtypes: datetime64[ns](1), float64(1), int64(6), object(10)\n",
      "memory usage: 13.7+ MB\n"
     ]
    }
   ],
   "source": [
    "df.info()"
   ]
  },
  {
   "cell_type": "code",
   "execution_count": 95,
   "metadata": {},
   "outputs": [],
   "source": [
    "# Remove spaces in column names\n",
    "\n",
    "for i in df:\n",
    "    #print(i)\n",
    "    j=i.replace(' ','_')\n",
    "    df=df.rename(columns={i:j.capitalize()})"
   ]
  },
  {
   "cell_type": "code",
   "execution_count": 96,
   "metadata": {},
   "outputs": [
    {
     "data": {
      "text/html": [
       "<div>\n",
       "<style scoped>\n",
       "    .dataframe tbody tr th:only-of-type {\n",
       "        vertical-align: middle;\n",
       "    }\n",
       "\n",
       "    .dataframe tbody tr th {\n",
       "        vertical-align: top;\n",
       "    }\n",
       "\n",
       "    .dataframe thead th {\n",
       "        text-align: right;\n",
       "    }\n",
       "</style>\n",
       "<table border=\"1\" class=\"dataframe\">\n",
       "  <thead>\n",
       "    <tr style=\"text-align: right;\">\n",
       "      <th></th>\n",
       "      <th>Platform</th>\n",
       "      <th>Post_id</th>\n",
       "      <th>Post_type</th>\n",
       "      <th>Post_content</th>\n",
       "      <th>Post_timestamp</th>\n",
       "      <th>Likes</th>\n",
       "      <th>Comments</th>\n",
       "      <th>Shares</th>\n",
       "      <th>Impressions</th>\n",
       "      <th>Reach</th>\n",
       "      <th>Engagement_rate</th>\n",
       "      <th>Audience_age</th>\n",
       "      <th>Audience_gender</th>\n",
       "      <th>Audience_location</th>\n",
       "      <th>Audience_interests</th>\n",
       "      <th>Campaign_id</th>\n",
       "      <th>Sentiment</th>\n",
       "      <th>Influencer_id</th>\n",
       "    </tr>\n",
       "  </thead>\n",
       "  <tbody>\n",
       "    <tr>\n",
       "      <th>0</th>\n",
       "      <td>LinkedIn</td>\n",
       "      <td>d49dadb4-fc1e-4775-88ad-d60b75cf5123</td>\n",
       "      <td>Video</td>\n",
       "      <td>Want that according same wish.</td>\n",
       "      <td>2021-04-23 08:19:49.255</td>\n",
       "      <td>415</td>\n",
       "      <td>77</td>\n",
       "      <td>85</td>\n",
       "      <td>2619</td>\n",
       "      <td>1842</td>\n",
       "      <td>31.32</td>\n",
       "      <td>29</td>\n",
       "      <td>Other</td>\n",
       "      <td>United Kingdom</td>\n",
       "      <td>respond</td>\n",
       "      <td>NaN</td>\n",
       "      <td>Negative</td>\n",
       "      <td>NaN</td>\n",
       "    </tr>\n",
       "    <tr>\n",
       "      <th>1</th>\n",
       "      <td>Instagram</td>\n",
       "      <td>16ce29c5-2dc7-478f-9814-a86754f3ce8b</td>\n",
       "      <td>Video</td>\n",
       "      <td>Increase fast partner south.</td>\n",
       "      <td>2023-07-30 06:40:06.356</td>\n",
       "      <td>908</td>\n",
       "      <td>125</td>\n",
       "      <td>85</td>\n",
       "      <td>1223</td>\n",
       "      <td>3884</td>\n",
       "      <td>28.78</td>\n",
       "      <td>48</td>\n",
       "      <td>Male</td>\n",
       "      <td>Greece</td>\n",
       "      <td>population</td>\n",
       "      <td>NaN</td>\n",
       "      <td>Neutral</td>\n",
       "      <td>NaN</td>\n",
       "    </tr>\n",
       "    <tr>\n",
       "      <th>2</th>\n",
       "      <td>Instagram</td>\n",
       "      <td>6a6cc741-72f4-4111-95a0-c5ee04a175a8</td>\n",
       "      <td>Video</td>\n",
       "      <td>Lawyer behavior born window couple sister.</td>\n",
       "      <td>2021-12-05 03:56:53.212</td>\n",
       "      <td>412</td>\n",
       "      <td>419</td>\n",
       "      <td>58</td>\n",
       "      <td>2165</td>\n",
       "      <td>849</td>\n",
       "      <td>104.71</td>\n",
       "      <td>55</td>\n",
       "      <td>Male</td>\n",
       "      <td>United States Virgin Islands</td>\n",
       "      <td>himself</td>\n",
       "      <td>NaN</td>\n",
       "      <td>Neutral</td>\n",
       "      <td>NaN</td>\n",
       "    </tr>\n",
       "    <tr>\n",
       "      <th>3</th>\n",
       "      <td>Twitter</td>\n",
       "      <td>0b5a3e70-c556-43cb-ad4f-a1d0003348bc</td>\n",
       "      <td>Image</td>\n",
       "      <td>Street great decade must.</td>\n",
       "      <td>2021-09-28 20:39:00.228</td>\n",
       "      <td>667</td>\n",
       "      <td>153</td>\n",
       "      <td>29</td>\n",
       "      <td>7191</td>\n",
       "      <td>3519</td>\n",
       "      <td>24.13</td>\n",
       "      <td>54</td>\n",
       "      <td>Other</td>\n",
       "      <td>Zambia</td>\n",
       "      <td>safe</td>\n",
       "      <td>NaN</td>\n",
       "      <td>NaN</td>\n",
       "      <td>NaN</td>\n",
       "    </tr>\n",
       "    <tr>\n",
       "      <th>4</th>\n",
       "      <td>Facebook</td>\n",
       "      <td>a7d3e958-e2fe-411e-a24a-b96e821fc050</td>\n",
       "      <td>Link</td>\n",
       "      <td>At clear meeting with reason ground continue c...</td>\n",
       "      <td>2023-02-27 17:51:21.425</td>\n",
       "      <td>659</td>\n",
       "      <td>215</td>\n",
       "      <td>34</td>\n",
       "      <td>3312</td>\n",
       "      <td>2032</td>\n",
       "      <td>44.69</td>\n",
       "      <td>33</td>\n",
       "      <td>Other</td>\n",
       "      <td>Afghanistan</td>\n",
       "      <td>well</td>\n",
       "      <td>6052b8d2-3403-4447-b0b4-c5ce20e6c8d0</td>\n",
       "      <td>NaN</td>\n",
       "      <td>NaN</td>\n",
       "    </tr>\n",
       "    <tr>\n",
       "      <th>...</th>\n",
       "      <td>...</td>\n",
       "      <td>...</td>\n",
       "      <td>...</td>\n",
       "      <td>...</td>\n",
       "      <td>...</td>\n",
       "      <td>...</td>\n",
       "      <td>...</td>\n",
       "      <td>...</td>\n",
       "      <td>...</td>\n",
       "      <td>...</td>\n",
       "      <td>...</td>\n",
       "      <td>...</td>\n",
       "      <td>...</td>\n",
       "      <td>...</td>\n",
       "      <td>...</td>\n",
       "      <td>...</td>\n",
       "      <td>...</td>\n",
       "      <td>...</td>\n",
       "    </tr>\n",
       "    <tr>\n",
       "      <th>99995</th>\n",
       "      <td>LinkedIn</td>\n",
       "      <td>26534a4f-0cb6-4bb3-b852-d1cadc15584e</td>\n",
       "      <td>Link</td>\n",
       "      <td>Trial serious region bit.</td>\n",
       "      <td>2021-12-14 08:14:35.617</td>\n",
       "      <td>555</td>\n",
       "      <td>491</td>\n",
       "      <td>15</td>\n",
       "      <td>4685</td>\n",
       "      <td>2377</td>\n",
       "      <td>44.64</td>\n",
       "      <td>62</td>\n",
       "      <td>Male</td>\n",
       "      <td>Brunei Darussalam</td>\n",
       "      <td>day</td>\n",
       "      <td>NaN</td>\n",
       "      <td>Positive</td>\n",
       "      <td>NaN</td>\n",
       "    </tr>\n",
       "    <tr>\n",
       "      <th>99996</th>\n",
       "      <td>Facebook</td>\n",
       "      <td>df9577d4-9338-4f41-99f9-8e8f1e34febd</td>\n",
       "      <td>Link</td>\n",
       "      <td>Pretty general by scene risk.</td>\n",
       "      <td>2022-06-24 00:28:30.818</td>\n",
       "      <td>341</td>\n",
       "      <td>76</td>\n",
       "      <td>76</td>\n",
       "      <td>4448</td>\n",
       "      <td>2605</td>\n",
       "      <td>18.93</td>\n",
       "      <td>35</td>\n",
       "      <td>Male</td>\n",
       "      <td>Honduras</td>\n",
       "      <td>over</td>\n",
       "      <td>NaN</td>\n",
       "      <td>NaN</td>\n",
       "      <td>NaN</td>\n",
       "    </tr>\n",
       "    <tr>\n",
       "      <th>99997</th>\n",
       "      <td>LinkedIn</td>\n",
       "      <td>43cd806e-704b-4718-9924-2555c189f8b2</td>\n",
       "      <td>Link</td>\n",
       "      <td>Develop school account wish rate.</td>\n",
       "      <td>2023-12-21 23:58:07.907</td>\n",
       "      <td>442</td>\n",
       "      <td>155</td>\n",
       "      <td>75</td>\n",
       "      <td>8746</td>\n",
       "      <td>4616</td>\n",
       "      <td>14.56</td>\n",
       "      <td>38</td>\n",
       "      <td>Male</td>\n",
       "      <td>Vanuatu</td>\n",
       "      <td>floor</td>\n",
       "      <td>9ffda691-fc52-47dc-93bf-041eb2eb3974</td>\n",
       "      <td>Neutral</td>\n",
       "      <td>NaN</td>\n",
       "    </tr>\n",
       "    <tr>\n",
       "      <th>99998</th>\n",
       "      <td>Instagram</td>\n",
       "      <td>3485970a-0f34-4304-a60a-f4e3de8e1917</td>\n",
       "      <td>Link</td>\n",
       "      <td>Just might language idea answer data idea.</td>\n",
       "      <td>2024-03-01 21:03:06.668</td>\n",
       "      <td>313</td>\n",
       "      <td>417</td>\n",
       "      <td>140</td>\n",
       "      <td>5487</td>\n",
       "      <td>608</td>\n",
       "      <td>143.09</td>\n",
       "      <td>39</td>\n",
       "      <td>Female</td>\n",
       "      <td>Saint Barthelemy</td>\n",
       "      <td>key</td>\n",
       "      <td>NaN</td>\n",
       "      <td>NaN</td>\n",
       "      <td>NaN</td>\n",
       "    </tr>\n",
       "    <tr>\n",
       "      <th>99999</th>\n",
       "      <td>Twitter</td>\n",
       "      <td>6b1406b0-adca-43e5-abde-799746a9b50a</td>\n",
       "      <td>Link</td>\n",
       "      <td>Cold money inside deep.</td>\n",
       "      <td>2022-04-01 23:34:15.201</td>\n",
       "      <td>27</td>\n",
       "      <td>138</td>\n",
       "      <td>148</td>\n",
       "      <td>2179</td>\n",
       "      <td>2230</td>\n",
       "      <td>14.04</td>\n",
       "      <td>22</td>\n",
       "      <td>Female</td>\n",
       "      <td>United States Virgin Islands</td>\n",
       "      <td>range</td>\n",
       "      <td>3302de60-24c2-4995-9c24-6dcaee99071a</td>\n",
       "      <td>NaN</td>\n",
       "      <td>NaN</td>\n",
       "    </tr>\n",
       "  </tbody>\n",
       "</table>\n",
       "<p>100000 rows × 18 columns</p>\n",
       "</div>"
      ],
      "text/plain": [
       "        Platform                               Post_id Post_type  \\\n",
       "0       LinkedIn  d49dadb4-fc1e-4775-88ad-d60b75cf5123     Video   \n",
       "1      Instagram  16ce29c5-2dc7-478f-9814-a86754f3ce8b     Video   \n",
       "2      Instagram  6a6cc741-72f4-4111-95a0-c5ee04a175a8     Video   \n",
       "3        Twitter  0b5a3e70-c556-43cb-ad4f-a1d0003348bc     Image   \n",
       "4       Facebook  a7d3e958-e2fe-411e-a24a-b96e821fc050      Link   \n",
       "...          ...                                   ...       ...   \n",
       "99995   LinkedIn  26534a4f-0cb6-4bb3-b852-d1cadc15584e      Link   \n",
       "99996   Facebook  df9577d4-9338-4f41-99f9-8e8f1e34febd      Link   \n",
       "99997   LinkedIn  43cd806e-704b-4718-9924-2555c189f8b2      Link   \n",
       "99998  Instagram  3485970a-0f34-4304-a60a-f4e3de8e1917      Link   \n",
       "99999    Twitter  6b1406b0-adca-43e5-abde-799746a9b50a      Link   \n",
       "\n",
       "                                            Post_content  \\\n",
       "0                         Want that according same wish.   \n",
       "1                           Increase fast partner south.   \n",
       "2             Lawyer behavior born window couple sister.   \n",
       "3                              Street great decade must.   \n",
       "4      At clear meeting with reason ground continue c...   \n",
       "...                                                  ...   \n",
       "99995                          Trial serious region bit.   \n",
       "99996                      Pretty general by scene risk.   \n",
       "99997                  Develop school account wish rate.   \n",
       "99998         Just might language idea answer data idea.   \n",
       "99999                            Cold money inside deep.   \n",
       "\n",
       "               Post_timestamp  Likes  Comments  Shares  Impressions  Reach  \\\n",
       "0     2021-04-23 08:19:49.255    415        77      85         2619   1842   \n",
       "1     2023-07-30 06:40:06.356    908       125      85         1223   3884   \n",
       "2     2021-12-05 03:56:53.212    412       419      58         2165    849   \n",
       "3     2021-09-28 20:39:00.228    667       153      29         7191   3519   \n",
       "4     2023-02-27 17:51:21.425    659       215      34         3312   2032   \n",
       "...                       ...    ...       ...     ...          ...    ...   \n",
       "99995 2021-12-14 08:14:35.617    555       491      15         4685   2377   \n",
       "99996 2022-06-24 00:28:30.818    341        76      76         4448   2605   \n",
       "99997 2023-12-21 23:58:07.907    442       155      75         8746   4616   \n",
       "99998 2024-03-01 21:03:06.668    313       417     140         5487    608   \n",
       "99999 2022-04-01 23:34:15.201     27       138     148         2179   2230   \n",
       "\n",
       "       Engagement_rate  Audience_age Audience_gender  \\\n",
       "0                31.32            29           Other   \n",
       "1                28.78            48            Male   \n",
       "2               104.71            55            Male   \n",
       "3                24.13            54           Other   \n",
       "4                44.69            33           Other   \n",
       "...                ...           ...             ...   \n",
       "99995            44.64            62            Male   \n",
       "99996            18.93            35            Male   \n",
       "99997            14.56            38            Male   \n",
       "99998           143.09            39          Female   \n",
       "99999            14.04            22          Female   \n",
       "\n",
       "                  Audience_location Audience_interests  \\\n",
       "0                    United Kingdom            respond   \n",
       "1                            Greece         population   \n",
       "2      United States Virgin Islands            himself   \n",
       "3                            Zambia               safe   \n",
       "4                       Afghanistan               well   \n",
       "...                             ...                ...   \n",
       "99995             Brunei Darussalam                day   \n",
       "99996                      Honduras               over   \n",
       "99997                       Vanuatu              floor   \n",
       "99998              Saint Barthelemy                key   \n",
       "99999  United States Virgin Islands              range   \n",
       "\n",
       "                                Campaign_id Sentiment Influencer_id  \n",
       "0                                       NaN  Negative           NaN  \n",
       "1                                       NaN   Neutral           NaN  \n",
       "2                                       NaN   Neutral           NaN  \n",
       "3                                       NaN       NaN           NaN  \n",
       "4      6052b8d2-3403-4447-b0b4-c5ce20e6c8d0       NaN           NaN  \n",
       "...                                     ...       ...           ...  \n",
       "99995                                   NaN  Positive           NaN  \n",
       "99996                                   NaN       NaN           NaN  \n",
       "99997  9ffda691-fc52-47dc-93bf-041eb2eb3974   Neutral           NaN  \n",
       "99998                                   NaN       NaN           NaN  \n",
       "99999  3302de60-24c2-4995-9c24-6dcaee99071a       NaN           NaN  \n",
       "\n",
       "[100000 rows x 18 columns]"
      ]
     },
     "execution_count": 96,
     "metadata": {},
     "output_type": "execute_result"
    }
   ],
   "source": [
    "#Display the first few rows of the dataframe to verify the data has been loaded correctly\n",
    "df"
   ]
  },
  {
   "cell_type": "code",
   "execution_count": 97,
   "metadata": {},
   "outputs": [
    {
     "data": {
      "text/plain": [
       "219974"
      ]
     },
     "execution_count": 97,
     "metadata": {},
     "output_type": "execute_result"
    }
   ],
   "source": [
    "#identify null values\n",
    "df.isnull().sum().sum()"
   ]
  },
  {
   "cell_type": "code",
   "execution_count": 98,
   "metadata": {},
   "outputs": [],
   "source": [
    "#Drop null values\n",
    "df=df.dropna()"
   ]
  },
  {
   "cell_type": "code",
   "execution_count": 99,
   "metadata": {},
   "outputs": [
    {
     "data": {
      "text/plain": [
       "0"
      ]
     },
     "execution_count": 99,
     "metadata": {},
     "output_type": "execute_result"
    }
   ],
   "source": [
    "df.isnull().sum().sum()"
   ]
  },
  {
   "cell_type": "code",
   "execution_count": 100,
   "metadata": {},
   "outputs": [
    {
     "data": {
      "text/plain": [
       "Platform              0\n",
       "Post_id               0\n",
       "Post_type             0\n",
       "Post_content          0\n",
       "Post_timestamp        0\n",
       "Likes                 0\n",
       "Comments              0\n",
       "Shares                0\n",
       "Impressions           0\n",
       "Reach                 0\n",
       "Engagement_rate       0\n",
       "Audience_age          0\n",
       "Audience_gender       0\n",
       "Audience_location     0\n",
       "Audience_interests    0\n",
       "Campaign_id           0\n",
       "Sentiment             0\n",
       "Influencer_id         0\n",
       "dtype: int64"
      ]
     },
     "execution_count": 100,
     "metadata": {},
     "output_type": "execute_result"
    }
   ],
   "source": [
    "df.isnull().sum()"
   ]
  },
  {
   "cell_type": "code",
   "execution_count": 101,
   "metadata": {},
   "outputs": [
    {
     "name": "stderr",
     "output_type": "stream",
     "text": [
      "C:\\Users\\amald\\AppData\\Local\\Temp\\ipykernel_12708\\2231228757.py:2: SettingWithCopyWarning: \n",
      "A value is trying to be set on a copy of a slice from a DataFrame\n",
      "\n",
      "See the caveats in the documentation: https://pandas.pydata.org/pandas-docs/stable/user_guide/indexing.html#returning-a-view-versus-a-copy\n",
      "  df.drop(columns=['Influencer_id','Campaign_id'],inplace=True)\n"
     ]
    }
   ],
   "source": [
    "#Removing unwanted columns\n",
    "df.drop(columns=['Influencer_id','Campaign_id'],inplace=True)\n"
   ]
  },
  {
   "cell_type": "code",
   "execution_count": 102,
   "metadata": {},
   "outputs": [
    {
     "data": {
      "text/plain": [
       "0"
      ]
     },
     "execution_count": 102,
     "metadata": {},
     "output_type": "execute_result"
    }
   ],
   "source": [
    "#Checking for any duplicate rows\n",
    "df.duplicated().sum()"
   ]
  },
  {
   "cell_type": "code",
   "execution_count": 103,
   "metadata": {},
   "outputs": [],
   "source": [
    "df_backup=df.copy()"
   ]
  },
  {
   "cell_type": "code",
   "execution_count": 104,
   "metadata": {},
   "outputs": [],
   "source": [
    "df.to_csv('Project1_cleaned_data.csv')"
   ]
  },
  {
   "cell_type": "code",
   "execution_count": 106,
   "metadata": {},
   "outputs": [
    {
     "data": {
      "text/html": [
       "<div>\n",
       "<style scoped>\n",
       "    .dataframe tbody tr th:only-of-type {\n",
       "        vertical-align: middle;\n",
       "    }\n",
       "\n",
       "    .dataframe tbody tr th {\n",
       "        vertical-align: top;\n",
       "    }\n",
       "\n",
       "    .dataframe thead th {\n",
       "        text-align: right;\n",
       "    }\n",
       "</style>\n",
       "<table border=\"1\" class=\"dataframe\">\n",
       "  <thead>\n",
       "    <tr style=\"text-align: right;\">\n",
       "      <th></th>\n",
       "      <th>Platform</th>\n",
       "      <th>Post_id</th>\n",
       "      <th>Post_type</th>\n",
       "      <th>Post_content</th>\n",
       "      <th>Post_timestamp</th>\n",
       "      <th>Likes</th>\n",
       "      <th>Comments</th>\n",
       "      <th>Shares</th>\n",
       "      <th>Impressions</th>\n",
       "      <th>Reach</th>\n",
       "      <th>Engagement_rate</th>\n",
       "      <th>Audience_age</th>\n",
       "      <th>Audience_gender</th>\n",
       "      <th>Audience_location</th>\n",
       "      <th>Audience_interests</th>\n",
       "      <th>Sentiment</th>\n",
       "    </tr>\n",
       "  </thead>\n",
       "  <tbody>\n",
       "    <tr>\n",
       "      <th>118</th>\n",
       "      <td>Instagram</td>\n",
       "      <td>91924a08-f836-4887-8a33-88c83577a6eb</td>\n",
       "      <td>Video</td>\n",
       "      <td>Station weight rule today.</td>\n",
       "      <td>2023-09-15 05:51:01.176</td>\n",
       "      <td>102</td>\n",
       "      <td>339</td>\n",
       "      <td>191</td>\n",
       "      <td>9035</td>\n",
       "      <td>3820</td>\n",
       "      <td>16.54</td>\n",
       "      <td>51</td>\n",
       "      <td>Other</td>\n",
       "      <td>Cyprus</td>\n",
       "      <td>dog</td>\n",
       "      <td>Positive</td>\n",
       "    </tr>\n",
       "    <tr>\n",
       "      <th>157</th>\n",
       "      <td>Facebook</td>\n",
       "      <td>854dcd1e-e09c-4683-ba10-bd231140fff9</td>\n",
       "      <td>Video</td>\n",
       "      <td>End for wait since every city career sort.</td>\n",
       "      <td>2021-07-29 16:32:27.176</td>\n",
       "      <td>695</td>\n",
       "      <td>326</td>\n",
       "      <td>69</td>\n",
       "      <td>1349</td>\n",
       "      <td>1024</td>\n",
       "      <td>106.45</td>\n",
       "      <td>44</td>\n",
       "      <td>Female</td>\n",
       "      <td>Martinique</td>\n",
       "      <td>according</td>\n",
       "      <td>Neutral</td>\n",
       "    </tr>\n",
       "  </tbody>\n",
       "</table>\n",
       "</div>"
      ],
      "text/plain": [
       "      Platform                               Post_id Post_type  \\\n",
       "118  Instagram  91924a08-f836-4887-8a33-88c83577a6eb     Video   \n",
       "157   Facebook  854dcd1e-e09c-4683-ba10-bd231140fff9     Video   \n",
       "\n",
       "                                   Post_content          Post_timestamp  \\\n",
       "118                  Station weight rule today. 2023-09-15 05:51:01.176   \n",
       "157  End for wait since every city career sort. 2021-07-29 16:32:27.176   \n",
       "\n",
       "     Likes  Comments  Shares  Impressions  Reach  Engagement_rate  \\\n",
       "118    102       339     191         9035   3820            16.54   \n",
       "157    695       326      69         1349   1024           106.45   \n",
       "\n",
       "     Audience_age Audience_gender Audience_location Audience_interests  \\\n",
       "118            51           Other            Cyprus                dog   \n",
       "157            44          Female        Martinique          according   \n",
       "\n",
       "    Sentiment  \n",
       "118  Positive  \n",
       "157   Neutral  "
      ]
     },
     "execution_count": 106,
     "metadata": {},
     "output_type": "execute_result"
    }
   ],
   "source": [
    "df.head(2)"
   ]
  },
  {
   "cell_type": "markdown",
   "metadata": {},
   "source": [
    "## *Which platform is more widely used based on gender?*"
   ]
  },
  {
   "cell_type": "code",
   "execution_count": 107,
   "metadata": {},
   "outputs": [],
   "source": [
    "df1=pd.crosstab(df.Platform, df.Audience_gender, margins=True, margins_name=\"Total\").reset_index()\n"
   ]
  },
  {
   "cell_type": "code",
   "execution_count": 108,
   "metadata": {},
   "outputs": [],
   "source": [
    "df1=df1.iloc[:-1,:-1]"
   ]
  },
  {
   "cell_type": "code",
   "execution_count": 109,
   "metadata": {},
   "outputs": [],
   "source": [
    "df2=pd.melt(df1, id_vars=['Platform'], value_vars=['Female', 'Male','Other'])\n"
   ]
  },
  {
   "cell_type": "code",
   "execution_count": 110,
   "metadata": {},
   "outputs": [
    {
     "data": {
      "text/html": [
       "<div>\n",
       "<style scoped>\n",
       "    .dataframe tbody tr th:only-of-type {\n",
       "        vertical-align: middle;\n",
       "    }\n",
       "\n",
       "    .dataframe tbody tr th {\n",
       "        vertical-align: top;\n",
       "    }\n",
       "\n",
       "    .dataframe thead th {\n",
       "        text-align: right;\n",
       "    }\n",
       "</style>\n",
       "<table border=\"1\" class=\"dataframe\">\n",
       "  <thead>\n",
       "    <tr style=\"text-align: right;\">\n",
       "      <th></th>\n",
       "      <th>Platform</th>\n",
       "      <th>Audience_gender</th>\n",
       "      <th>value</th>\n",
       "    </tr>\n",
       "  </thead>\n",
       "  <tbody>\n",
       "    <tr>\n",
       "      <th>0</th>\n",
       "      <td>Facebook</td>\n",
       "      <td>Female</td>\n",
       "      <td>89</td>\n",
       "    </tr>\n",
       "    <tr>\n",
       "      <th>1</th>\n",
       "      <td>Instagram</td>\n",
       "      <td>Female</td>\n",
       "      <td>87</td>\n",
       "    </tr>\n",
       "    <tr>\n",
       "      <th>2</th>\n",
       "      <td>LinkedIn</td>\n",
       "      <td>Female</td>\n",
       "      <td>91</td>\n",
       "    </tr>\n",
       "    <tr>\n",
       "      <th>3</th>\n",
       "      <td>Twitter</td>\n",
       "      <td>Female</td>\n",
       "      <td>94</td>\n",
       "    </tr>\n",
       "    <tr>\n",
       "      <th>4</th>\n",
       "      <td>Facebook</td>\n",
       "      <td>Male</td>\n",
       "      <td>65</td>\n",
       "    </tr>\n",
       "    <tr>\n",
       "      <th>5</th>\n",
       "      <td>Instagram</td>\n",
       "      <td>Male</td>\n",
       "      <td>83</td>\n",
       "    </tr>\n",
       "    <tr>\n",
       "      <th>6</th>\n",
       "      <td>LinkedIn</td>\n",
       "      <td>Male</td>\n",
       "      <td>78</td>\n",
       "    </tr>\n",
       "    <tr>\n",
       "      <th>7</th>\n",
       "      <td>Twitter</td>\n",
       "      <td>Male</td>\n",
       "      <td>90</td>\n",
       "    </tr>\n",
       "    <tr>\n",
       "      <th>8</th>\n",
       "      <td>Facebook</td>\n",
       "      <td>Other</td>\n",
       "      <td>73</td>\n",
       "    </tr>\n",
       "    <tr>\n",
       "      <th>9</th>\n",
       "      <td>Instagram</td>\n",
       "      <td>Other</td>\n",
       "      <td>81</td>\n",
       "    </tr>\n",
       "    <tr>\n",
       "      <th>10</th>\n",
       "      <td>LinkedIn</td>\n",
       "      <td>Other</td>\n",
       "      <td>87</td>\n",
       "    </tr>\n",
       "    <tr>\n",
       "      <th>11</th>\n",
       "      <td>Twitter</td>\n",
       "      <td>Other</td>\n",
       "      <td>95</td>\n",
       "    </tr>\n",
       "  </tbody>\n",
       "</table>\n",
       "</div>"
      ],
      "text/plain": [
       "     Platform Audience_gender  value\n",
       "0    Facebook          Female     89\n",
       "1   Instagram          Female     87\n",
       "2    LinkedIn          Female     91\n",
       "3     Twitter          Female     94\n",
       "4    Facebook            Male     65\n",
       "5   Instagram            Male     83\n",
       "6    LinkedIn            Male     78\n",
       "7     Twitter            Male     90\n",
       "8    Facebook           Other     73\n",
       "9   Instagram           Other     81\n",
       "10   LinkedIn           Other     87\n",
       "11    Twitter           Other     95"
      ]
     },
     "execution_count": 110,
     "metadata": {},
     "output_type": "execute_result"
    }
   ],
   "source": [
    "df2"
   ]
  },
  {
   "cell_type": "code",
   "execution_count": 111,
   "metadata": {},
   "outputs": [
    {
     "data": {
      "image/png": "[encoded data removed]",
      "text/plain": [
       "<Figure size 640x480 with 1 Axes>"
      ]
     },
     "metadata": {},
     "output_type": "display_data"
    }
   ],
   "source": [
    "sns.barplot(data=df2, x='Platform', y='value', hue='Audience_gender')\n",
    "plt.title('Distribution of Audience Gender across Platforms')\n",
    "plt.xlabel('Platform')\n",
    "plt.ylabel('value')\n",
    "plt.show()"
   ]
  },
  {
   "cell_type": "markdown",
   "metadata": {},
   "source": [
    "The bar chart illustrates social media platform usage across different gender categories: Female, Male, and Other. On Facebook, females show the highest engagement, followed by the Other category, with males trailing slightly. Instagram displays a similar trend, with females leading, though the Other category is very close behind. LinkedIn also sees high female engagement, with the Other category slightly lower and males again in the third position. On Twitter, the Other category surpasses females slightly, with males remaining consistent. This data highlights the varying engagement patterns across platforms and emphasizes the importance of considering gender dynamics in social media strategies."
   ]
  },
  {
   "cell_type": "markdown",
   "metadata": {},
   "source": [
    "## *Identifying the Engagement Rate across different Platform*"
   ]
  },
  {
   "cell_type": "markdown",
   "metadata": {},
   "source": []
  },
  {
   "cell_type": "code",
   "execution_count": 112,
   "metadata": {},
   "outputs": [],
   "source": [
    "df1=pd.crosstab(df.Platform, df.Engagement_rate\t, margins=True, margins_name=\"Total\").reset_index()\n"
   ]
  },
  {
   "cell_type": "code",
   "execution_count": 113,
   "metadata": {},
   "outputs": [],
   "source": [
    "df1=df1.iloc[:-1,:-1]"
   ]
  },
  {
   "cell_type": "code",
   "execution_count": 114,
   "metadata": {},
   "outputs": [
    {
     "data": {
      "text/plain": [
       "Engagement_rate\n",
       "25.76     3\n",
       "15.90     3\n",
       "23.03     3\n",
       "32.90     3\n",
       "28.83     2\n",
       "         ..\n",
       "42.70     1\n",
       "33.42     1\n",
       "44.48     1\n",
       "135.18    1\n",
       "15.80     1\n",
       "Name: count, Length: 951, dtype: int64"
      ]
     },
     "execution_count": 114,
     "metadata": {},
     "output_type": "execute_result"
    }
   ],
   "source": [
    "df['Engagement_rate'].value_counts()"
   ]
  },
  {
   "cell_type": "code",
   "execution_count": 115,
   "metadata": {},
   "outputs": [],
   "source": [
    "dfx=df.groupby('Platform')['Engagement_rate'].sum().reset_index()"
   ]
  },
  {
   "cell_type": "code",
   "execution_count": 116,
   "metadata": {},
   "outputs": [
    {
     "data": {
      "text/html": [
       "<div>\n",
       "<style scoped>\n",
       "    .dataframe tbody tr th:only-of-type {\n",
       "        vertical-align: middle;\n",
       "    }\n",
       "\n",
       "    .dataframe tbody tr th {\n",
       "        vertical-align: top;\n",
       "    }\n",
       "\n",
       "    .dataframe thead th {\n",
       "        text-align: right;\n",
       "    }\n",
       "</style>\n",
       "<table border=\"1\" class=\"dataframe\">\n",
       "  <thead>\n",
       "    <tr style=\"text-align: right;\">\n",
       "      <th></th>\n",
       "      <th>Platform</th>\n",
       "      <th>Engagement_rate</th>\n",
       "    </tr>\n",
       "  </thead>\n",
       "  <tbody>\n",
       "    <tr>\n",
       "      <th>0</th>\n",
       "      <td>Facebook</td>\n",
       "      <td>10476.84</td>\n",
       "    </tr>\n",
       "    <tr>\n",
       "      <th>1</th>\n",
       "      <td>Instagram</td>\n",
       "      <td>11000.50</td>\n",
       "    </tr>\n",
       "    <tr>\n",
       "      <th>2</th>\n",
       "      <td>LinkedIn</td>\n",
       "      <td>10760.06</td>\n",
       "    </tr>\n",
       "    <tr>\n",
       "      <th>3</th>\n",
       "      <td>Twitter</td>\n",
       "      <td>11030.84</td>\n",
       "    </tr>\n",
       "  </tbody>\n",
       "</table>\n",
       "</div>"
      ],
      "text/plain": [
       "    Platform  Engagement_rate\n",
       "0   Facebook         10476.84\n",
       "1  Instagram         11000.50\n",
       "2   LinkedIn         10760.06\n",
       "3    Twitter         11030.84"
      ]
     },
     "execution_count": 116,
     "metadata": {},
     "output_type": "execute_result"
    }
   ],
   "source": [
    "dfx"
   ]
  },
  {
   "cell_type": "code",
   "execution_count": 117,
   "metadata": {},
   "outputs": [],
   "source": [
    "tot=dfx['Engagement_rate'].sum()"
   ]
  },
  {
   "cell_type": "code",
   "execution_count": 118,
   "metadata": {},
   "outputs": [],
   "source": [
    "dfx['Engagement_rate']=dfx['Engagement_rate'].apply(lambda x :round(x *100/tot,1))"
   ]
  },
  {
   "cell_type": "code",
   "execution_count": 119,
   "metadata": {},
   "outputs": [
    {
     "data": {
      "text/html": [
       "<div>\n",
       "<style scoped>\n",
       "    .dataframe tbody tr th:only-of-type {\n",
       "        vertical-align: middle;\n",
       "    }\n",
       "\n",
       "    .dataframe tbody tr th {\n",
       "        vertical-align: top;\n",
       "    }\n",
       "\n",
       "    .dataframe thead th {\n",
       "        text-align: right;\n",
       "    }\n",
       "</style>\n",
       "<table border=\"1\" class=\"dataframe\">\n",
       "  <thead>\n",
       "    <tr style=\"text-align: right;\">\n",
       "      <th></th>\n",
       "      <th>Platform</th>\n",
       "      <th>Engagement_rate</th>\n",
       "    </tr>\n",
       "  </thead>\n",
       "  <tbody>\n",
       "    <tr>\n",
       "      <th>0</th>\n",
       "      <td>Facebook</td>\n",
       "      <td>24.2</td>\n",
       "    </tr>\n",
       "    <tr>\n",
       "      <th>1</th>\n",
       "      <td>Instagram</td>\n",
       "      <td>25.4</td>\n",
       "    </tr>\n",
       "    <tr>\n",
       "      <th>2</th>\n",
       "      <td>LinkedIn</td>\n",
       "      <td>24.9</td>\n",
       "    </tr>\n",
       "    <tr>\n",
       "      <th>3</th>\n",
       "      <td>Twitter</td>\n",
       "      <td>25.5</td>\n",
       "    </tr>\n",
       "  </tbody>\n",
       "</table>\n",
       "</div>"
      ],
      "text/plain": [
       "    Platform  Engagement_rate\n",
       "0   Facebook             24.2\n",
       "1  Instagram             25.4\n",
       "2   LinkedIn             24.9\n",
       "3    Twitter             25.5"
      ]
     },
     "execution_count": 119,
     "metadata": {},
     "output_type": "execute_result"
    }
   ],
   "source": [
    "dfx"
   ]
  },
  {
   "cell_type": "code",
   "execution_count": 120,
   "metadata": {},
   "outputs": [
    {
     "name": "stderr",
     "output_type": "stream",
     "text": [
      "C:\\Users\\amald\\AppData\\Local\\Temp\\ipykernel_12708\\4112650688.py:1: FutureWarning: \n",
      "\n",
      "Passing `palette` without assigning `hue` is deprecated and will be removed in v0.14.0. Assign the `x` variable to `hue` and set `legend=False` for the same effect.\n",
      "\n",
      "  sns.barplot(data=dfx, x='Platform', y='Engagement_rate',palette='husl')\n"
     ]
    },
    {
     "data": {
      "image/png": "[encoded data removed]",
      "text/plain": [
       "<Figure size 640x480 with 1 Axes>"
      ]
     },
     "metadata": {},
     "output_type": "display_data"
    }
   ],
   "source": [
    "sns.barplot(data=dfx, x='Platform', y='Engagement_rate',palette='husl')\n",
    "plt.title('Engagement Rate by Platform')\n",
    "plt.xlabel('Platform')\n",
    "plt.ylabel('Engagement rate')\n",
    "plt.show()"
   ]
  },
  {
   "cell_type": "markdown",
   "metadata": {},
   "source": [
    "The bar chart displays engagement rates across four social media platforms: Facebook, Instagram, LinkedIn, and Twitter. Instagram leads with the highest engagement rate, followed closely by LinkedIn and Twitter, which have similar rates. Facebook shows slightly lower engagement compared to the others. This pattern indicates that Instagram is particularly effective for capturing user interaction, while LinkedIn and Twitter also maintain strong engagement levels. Facebook, although slightly lower, still retains a significant presence. These insights are crucial for optimizing content strategies to maximize audience interaction across different platforms."
   ]
  },
  {
   "cell_type": "markdown",
   "metadata": {},
   "source": [
    "### Identifying the type of post preferred."
   ]
  },
  {
   "cell_type": "code",
   "execution_count": 121,
   "metadata": {},
   "outputs": [],
   "source": [
    "df3=df['Post_type'].value_counts().reset_index()\n"
   ]
  },
  {
   "cell_type": "code",
   "execution_count": 122,
   "metadata": {},
   "outputs": [
    {
     "data": {
      "text/html": [
       "<div>\n",
       "<style scoped>\n",
       "    .dataframe tbody tr th:only-of-type {\n",
       "        vertical-align: middle;\n",
       "    }\n",
       "\n",
       "    .dataframe tbody tr th {\n",
       "        vertical-align: top;\n",
       "    }\n",
       "\n",
       "    .dataframe thead th {\n",
       "        text-align: right;\n",
       "    }\n",
       "</style>\n",
       "<table border=\"1\" class=\"dataframe\">\n",
       "  <thead>\n",
       "    <tr style=\"text-align: right;\">\n",
       "      <th></th>\n",
       "      <th>Post_type</th>\n",
       "      <th>count</th>\n",
       "    </tr>\n",
       "  </thead>\n",
       "  <tbody>\n",
       "    <tr>\n",
       "      <th>0</th>\n",
       "      <td>Image</td>\n",
       "      <td>348</td>\n",
       "    </tr>\n",
       "    <tr>\n",
       "      <th>1</th>\n",
       "      <td>Video</td>\n",
       "      <td>341</td>\n",
       "    </tr>\n",
       "    <tr>\n",
       "      <th>2</th>\n",
       "      <td>Link</td>\n",
       "      <td>324</td>\n",
       "    </tr>\n",
       "  </tbody>\n",
       "</table>\n",
       "</div>"
      ],
      "text/plain": [
       "  Post_type  count\n",
       "0     Image    348\n",
       "1     Video    341\n",
       "2      Link    324"
      ]
     },
     "execution_count": 122,
     "metadata": {},
     "output_type": "execute_result"
    }
   ],
   "source": [
    "df3"
   ]
  },
  {
   "cell_type": "code",
   "execution_count": 123,
   "metadata": {},
   "outputs": [
    {
     "name": "stderr",
     "output_type": "stream",
     "text": [
      "C:\\Users\\amald\\AppData\\Local\\Temp\\ipykernel_12708\\451800814.py:1: FutureWarning: \n",
      "\n",
      "Passing `palette` without assigning `hue` is deprecated and will be removed in v0.14.0. Assign the `x` variable to `hue` and set `legend=False` for the same effect.\n",
      "\n",
      "  sns.barplot(data=df3, x='Post_type', y='count',palette='tab10')\n"
     ]
    },
    {
     "data": {
      "image/png": "[encoded data removed]",
      "text/plain": [
       "<Figure size 640x480 with 1 Axes>"
      ]
     },
     "metadata": {},
     "output_type": "display_data"
    }
   ],
   "source": [
    "sns.barplot(data=df3, x='Post_type', y='count',palette='tab10')\n",
    "plt.xlabel('Post type')\n",
    "plt.ylabel('Post type count')\n",
    "plt.show()"
   ]
  },
  {
   "cell_type": "markdown",
   "metadata": {},
   "source": [
    "The bar chart illustrates the distribution of post types—images, videos, and links—on social media platforms. Images and videos are the most frequently posted types, showing nearly equal counts, indicating their popularity for engaging audiences. Links follow closely behind, suggesting they are also a common choice but slightly less favored compared to visual content. This distribution highlights the importance of using visual media to capture user interest, while still acknowledging the value of links for driving traffic and providing additional information. These insights can guide content strategies to optimize engagement."
   ]
  },
  {
   "cell_type": "markdown",
   "metadata": {},
   "source": [
    "## *Identifying the Likes across different Platform*\n"
   ]
  },
  {
   "cell_type": "code",
   "execution_count": 124,
   "metadata": {},
   "outputs": [
    {
     "data": {
      "text/html": [
       "<div>\n",
       "<style scoped>\n",
       "    .dataframe tbody tr th:only-of-type {\n",
       "        vertical-align: middle;\n",
       "    }\n",
       "\n",
       "    .dataframe tbody tr th {\n",
       "        vertical-align: top;\n",
       "    }\n",
       "\n",
       "    .dataframe thead th {\n",
       "        text-align: right;\n",
       "    }\n",
       "</style>\n",
       "<table border=\"1\" class=\"dataframe\">\n",
       "  <thead>\n",
       "    <tr style=\"text-align: right;\">\n",
       "      <th></th>\n",
       "      <th>Platform</th>\n",
       "      <th>Likes</th>\n",
       "    </tr>\n",
       "  </thead>\n",
       "  <tbody>\n",
       "    <tr>\n",
       "      <th>0</th>\n",
       "      <td>Facebook</td>\n",
       "      <td>119387</td>\n",
       "    </tr>\n",
       "    <tr>\n",
       "      <th>1</th>\n",
       "      <td>Instagram</td>\n",
       "      <td>128060</td>\n",
       "    </tr>\n",
       "    <tr>\n",
       "      <th>2</th>\n",
       "      <td>LinkedIn</td>\n",
       "      <td>127273</td>\n",
       "    </tr>\n",
       "    <tr>\n",
       "      <th>3</th>\n",
       "      <td>Twitter</td>\n",
       "      <td>130151</td>\n",
       "    </tr>\n",
       "  </tbody>\n",
       "</table>\n",
       "</div>"
      ],
      "text/plain": [
       "    Platform   Likes\n",
       "0   Facebook  119387\n",
       "1  Instagram  128060\n",
       "2   LinkedIn  127273\n",
       "3    Twitter  130151"
      ]
     },
     "execution_count": 124,
     "metadata": {},
     "output_type": "execute_result"
    }
   ],
   "source": [
    "df4=df.groupby('Platform')['Likes'].sum().reset_index()\n",
    "df4\n",
    "\n"
   ]
  },
  {
   "cell_type": "code",
   "execution_count": 125,
   "metadata": {},
   "outputs": [
    {
     "name": "stderr",
     "output_type": "stream",
     "text": [
      "C:\\Users\\amald\\AppData\\Local\\Temp\\ipykernel_12708\\4281824920.py:1: FutureWarning: \n",
      "\n",
      "Passing `palette` without assigning `hue` is deprecated and will be removed in v0.14.0. Assign the `x` variable to `hue` and set `legend=False` for the same effect.\n",
      "\n",
      "  sns.barplot(data=df4, x='Platform', y='Likes',palette='muted')\n"
     ]
    },
    {
     "data": {
      "image/png": "[encoded data removed]",
      "text/plain": [
       "<Figure size 640x480 with 1 Axes>"
      ]
     },
     "metadata": {},
     "output_type": "display_data"
    }
   ],
   "source": [
    "sns.barplot(data=df4, x='Platform', y='Likes',palette='muted')\n",
    "plt.title('Likes by platform')\n",
    "plt.xlabel('Platform')\n",
    "plt.ylabel('Likes')\n",
    "plt.show()"
   ]
  },
  {
   "cell_type": "markdown",
   "metadata": {},
   "source": [
    "The distribution of likes on different social media platforms is shown in the bar chart. With 130,151 likes, Twitter has the most, showing a high level of user involvement. With 128,060 likes, Instagram follows closely, demonstrating the popularity of its visual material. LinkedIn exhibits strong performance as well, with 127,273 likes, indicating that its audience finds value in professional material. Facebook still displays a high level of engagement even though it is lagging somewhat with 119,387 likes. These numbers show how different platforms' preferences and interaction patterns are, highlighting how crucial it is to customize content strategies to play to the advantages of each platform."
   ]
  },
  {
   "cell_type": "markdown",
   "metadata": {},
   "source": [
    "## *Identifying the Comments across different Platform*"
   ]
  },
  {
   "cell_type": "code",
   "execution_count": 126,
   "metadata": {},
   "outputs": [
    {
     "data": {
      "text/html": [
       "<div>\n",
       "<style scoped>\n",
       "    .dataframe tbody tr th:only-of-type {\n",
       "        vertical-align: middle;\n",
       "    }\n",
       "\n",
       "    .dataframe tbody tr th {\n",
       "        vertical-align: top;\n",
       "    }\n",
       "\n",
       "    .dataframe thead th {\n",
       "        text-align: right;\n",
       "    }\n",
       "</style>\n",
       "<table border=\"1\" class=\"dataframe\">\n",
       "  <thead>\n",
       "    <tr style=\"text-align: right;\">\n",
       "      <th></th>\n",
       "      <th>Platform</th>\n",
       "      <th>Comments</th>\n",
       "    </tr>\n",
       "  </thead>\n",
       "  <tbody>\n",
       "    <tr>\n",
       "      <th>0</th>\n",
       "      <td>Facebook</td>\n",
       "      <td>54574</td>\n",
       "    </tr>\n",
       "    <tr>\n",
       "      <th>1</th>\n",
       "      <td>Instagram</td>\n",
       "      <td>61365</td>\n",
       "    </tr>\n",
       "    <tr>\n",
       "      <th>2</th>\n",
       "      <td>LinkedIn</td>\n",
       "      <td>64028</td>\n",
       "    </tr>\n",
       "    <tr>\n",
       "      <th>3</th>\n",
       "      <td>Twitter</td>\n",
       "      <td>71244</td>\n",
       "    </tr>\n",
       "  </tbody>\n",
       "</table>\n",
       "</div>"
      ],
      "text/plain": [
       "    Platform  Comments\n",
       "0   Facebook     54574\n",
       "1  Instagram     61365\n",
       "2   LinkedIn     64028\n",
       "3    Twitter     71244"
      ]
     },
     "execution_count": 126,
     "metadata": {},
     "output_type": "execute_result"
    }
   ],
   "source": [
    "df5=df.groupby('Platform')['Comments'].sum().reset_index()\n",
    "df5\n"
   ]
  },
  {
   "cell_type": "code",
   "execution_count": 127,
   "metadata": {},
   "outputs": [
    {
     "name": "stderr",
     "output_type": "stream",
     "text": [
      "C:\\Users\\amald\\AppData\\Local\\Temp\\ipykernel_12708\\976643756.py:1: FutureWarning: \n",
      "\n",
      "Passing `palette` without assigning `hue` is deprecated and will be removed in v0.14.0. Assign the `x` variable to `hue` and set `legend=False` for the same effect.\n",
      "\n",
      "  sns.barplot(data=df5, x='Platform', y='Comments',palette='tab20')\n"
     ]
    },
    {
     "data": {
      "image/png": "[encoded data removed]",
      "text/plain": [
       "<Figure size 640x480 with 1 Axes>"
      ]
     },
     "metadata": {},
     "output_type": "display_data"
    }
   ],
   "source": [
    "sns.barplot(data=df5, x='Platform', y='Comments',palette='tab20')\n",
    "plt.title('Comments by platform')\n",
    "plt.xlabel('Platform')\n",
    "plt.ylabel('Comments')\n",
    "plt.show()"
   ]
  },
  {
   "cell_type": "markdown",
   "metadata": {},
   "source": [
    "The bar chart illustrates the distribution of comments across various social media platforms. Twitter stands out with the highest number of comments at 71,244, indicating strong user interaction and discussion. LinkedIn follows with 64,028 comments, highlighting its effectiveness for professional networking and conversation. Instagram, with 61,365 comments, demonstrates its appeal for engaging visual content. Facebook, although lower at 54,574 comments, still maintains substantial interaction. These figures emphasize the varying engagement levels on each platform, suggesting that content strategies should be tailored to leverage the unique strengths of each social network."
   ]
  },
  {
   "cell_type": "markdown",
   "metadata": {},
   "source": [
    "## *Identifying the Shares across different Platform*"
   ]
  },
  {
   "cell_type": "code",
   "execution_count": 128,
   "metadata": {},
   "outputs": [
    {
     "data": {
      "text/html": [
       "<div>\n",
       "<style scoped>\n",
       "    .dataframe tbody tr th:only-of-type {\n",
       "        vertical-align: middle;\n",
       "    }\n",
       "\n",
       "    .dataframe tbody tr th {\n",
       "        vertical-align: top;\n",
       "    }\n",
       "\n",
       "    .dataframe thead th {\n",
       "        text-align: right;\n",
       "    }\n",
       "</style>\n",
       "<table border=\"1\" class=\"dataframe\">\n",
       "  <thead>\n",
       "    <tr style=\"text-align: right;\">\n",
       "      <th></th>\n",
       "      <th>Platform</th>\n",
       "      <th>Shares</th>\n",
       "    </tr>\n",
       "  </thead>\n",
       "  <tbody>\n",
       "    <tr>\n",
       "      <th>0</th>\n",
       "      <td>Facebook</td>\n",
       "      <td>21976</td>\n",
       "    </tr>\n",
       "    <tr>\n",
       "      <th>1</th>\n",
       "      <td>Instagram</td>\n",
       "      <td>24161</td>\n",
       "    </tr>\n",
       "    <tr>\n",
       "      <th>2</th>\n",
       "      <td>LinkedIn</td>\n",
       "      <td>26949</td>\n",
       "    </tr>\n",
       "    <tr>\n",
       "      <th>3</th>\n",
       "      <td>Twitter</td>\n",
       "      <td>27811</td>\n",
       "    </tr>\n",
       "  </tbody>\n",
       "</table>\n",
       "</div>"
      ],
      "text/plain": [
       "    Platform  Shares\n",
       "0   Facebook   21976\n",
       "1  Instagram   24161\n",
       "2   LinkedIn   26949\n",
       "3    Twitter   27811"
      ]
     },
     "execution_count": 128,
     "metadata": {},
     "output_type": "execute_result"
    }
   ],
   "source": [
    "df6=df.groupby('Platform')['Shares'].sum().reset_index()\n",
    "df6"
   ]
  },
  {
   "cell_type": "code",
   "execution_count": 129,
   "metadata": {},
   "outputs": [
    {
     "name": "stderr",
     "output_type": "stream",
     "text": [
      "C:\\Users\\amald\\AppData\\Local\\Temp\\ipykernel_12708\\2103289557.py:1: FutureWarning: \n",
      "\n",
      "Passing `palette` without assigning `hue` is deprecated and will be removed in v0.14.0. Assign the `x` variable to `hue` and set `legend=False` for the same effect.\n",
      "\n",
      "  sns.barplot(data=df6, x='Platform', y='Shares',palette='hsv')\n"
     ]
    },
    {
     "data": {
      "image/png": "[encoded data removed]",
      "text/plain": [
       "<Figure size 640x480 with 1 Axes>"
      ]
     },
     "metadata": {},
     "output_type": "display_data"
    }
   ],
   "source": [
    "sns.barplot(data=df6, x='Platform', y='Shares',palette='hsv')\n",
    "plt.title('Shares by platform')\n",
    "plt.xlabel('Platform')\n",
    "plt.ylabel('Shares')\n",
    "plt.show()"
   ]
  },
  {
   "cell_type": "markdown",
   "metadata": {},
   "source": [
    "The bar chart shows the distribution of shares across social media platforms. Twitter leads with 27,811 shares, indicating high content dissemination and user engagement. LinkedIn follows with 26,949 shares, reflecting its strong influence in professional circles. Instagram, with 24,161 shares, highlights its visual appeal and sharing potential. Facebook, with 21,976 shares, still maintains a significant sharing activity. These numbers suggest that while all platforms facilitate content sharing, Twitter and LinkedIn are particularly effective for reaching broader audiences. This data can guide content strategies to maximize reach and impact on these platforms."
   ]
  },
  {
   "cell_type": "markdown",
   "metadata": {},
   "source": [
    "## *Identifying the most Impressions on the top 10  Post content*"
   ]
  },
  {
   "cell_type": "code",
   "execution_count": 130,
   "metadata": {},
   "outputs": [
    {
     "data": {
      "text/html": [
       "<div>\n",
       "<style scoped>\n",
       "    .dataframe tbody tr th:only-of-type {\n",
       "        vertical-align: middle;\n",
       "    }\n",
       "\n",
       "    .dataframe tbody tr th {\n",
       "        vertical-align: top;\n",
       "    }\n",
       "\n",
       "    .dataframe thead th {\n",
       "        text-align: right;\n",
       "    }\n",
       "</style>\n",
       "<table border=\"1\" class=\"dataframe\">\n",
       "  <thead>\n",
       "    <tr style=\"text-align: right;\">\n",
       "      <th></th>\n",
       "      <th>Post_content</th>\n",
       "      <th>Impressions</th>\n",
       "    </tr>\n",
       "  </thead>\n",
       "  <tbody>\n",
       "    <tr>\n",
       "      <th>0</th>\n",
       "      <td>A condition throw society simply level religious.</td>\n",
       "      <td>7999</td>\n",
       "    </tr>\n",
       "    <tr>\n",
       "      <th>1</th>\n",
       "      <td>Able check air arm.</td>\n",
       "      <td>7394</td>\n",
       "    </tr>\n",
       "    <tr>\n",
       "      <th>2</th>\n",
       "      <td>Able member degree drug full.</td>\n",
       "      <td>9643</td>\n",
       "    </tr>\n",
       "    <tr>\n",
       "      <th>3</th>\n",
       "      <td>About compare ability sport test similar data.</td>\n",
       "      <td>1448</td>\n",
       "    </tr>\n",
       "    <tr>\n",
       "      <th>4</th>\n",
       "      <td>About very reach assume item visit.</td>\n",
       "      <td>5256</td>\n",
       "    </tr>\n",
       "    <tr>\n",
       "      <th>...</th>\n",
       "      <td>...</td>\n",
       "      <td>...</td>\n",
       "    </tr>\n",
       "    <tr>\n",
       "      <th>1008</th>\n",
       "      <td>Young course range leave suddenly always contr...</td>\n",
       "      <td>6883</td>\n",
       "    </tr>\n",
       "    <tr>\n",
       "      <th>1009</th>\n",
       "      <td>Young positive wonder work nice spend.</td>\n",
       "      <td>5242</td>\n",
       "    </tr>\n",
       "    <tr>\n",
       "      <th>1010</th>\n",
       "      <td>Your raise either industry.</td>\n",
       "      <td>9721</td>\n",
       "    </tr>\n",
       "    <tr>\n",
       "      <th>1011</th>\n",
       "      <td>Your sign long.</td>\n",
       "      <td>4607</td>\n",
       "    </tr>\n",
       "    <tr>\n",
       "      <th>1012</th>\n",
       "      <td>Yourself away out small expert.</td>\n",
       "      <td>4930</td>\n",
       "    </tr>\n",
       "  </tbody>\n",
       "</table>\n",
       "<p>1013 rows × 2 columns</p>\n",
       "</div>"
      ],
      "text/plain": [
       "                                           Post_content  Impressions\n",
       "0     A condition throw society simply level religious.         7999\n",
       "1                                   Able check air arm.         7394\n",
       "2                         Able member degree drug full.         9643\n",
       "3        About compare ability sport test similar data.         1448\n",
       "4                   About very reach assume item visit.         5256\n",
       "...                                                 ...          ...\n",
       "1008  Young course range leave suddenly always contr...         6883\n",
       "1009             Young positive wonder work nice spend.         5242\n",
       "1010                        Your raise either industry.         9721\n",
       "1011                                    Your sign long.         4607\n",
       "1012                    Yourself away out small expert.         4930\n",
       "\n",
       "[1013 rows x 2 columns]"
      ]
     },
     "execution_count": 130,
     "metadata": {},
     "output_type": "execute_result"
    }
   ],
   "source": [
    "df7=df.groupby('Post_content')['Impressions'].sum().reset_index()\n",
    "df7"
   ]
  },
  {
   "cell_type": "code",
   "execution_count": 131,
   "metadata": {},
   "outputs": [
    {
     "data": {
      "image/png": "[encoded data removed]",
      "text/plain": [
       "<Figure size 1000x400 with 1 Axes>"
      ]
     },
     "metadata": {},
     "output_type": "display_data"
    }
   ],
   "source": [
    "#df7=df.groupby(['Post_content'])['Impressions'].sum().sort_values(ascending=False).reset_index().head(10)\n",
    "df7\n",
    "\n",
    "df7= df.groupby('Post_content')['Impressions'].sum().nlargest(10)\n",
    "plt.figure(figsize=(10, 4))\n",
    "df7.plot(kind='barh')\n",
    "plt.title('impression by post content')\n",
    "plt.xlabel('Impressions')\n",
    "plt.ylabel('Post_content')\n",
    "plt.xticks(rotation=50)\n",
    "plt.show()"
   ]
  },
  {
   "cell_type": "markdown",
   "metadata": {},
   "source": [
    "## *Identifying the weekday having maximum likes?*"
   ]
  },
  {
   "cell_type": "markdown",
   "metadata": {},
   "source": []
  },
  {
   "cell_type": "code",
   "execution_count": 133,
   "metadata": {},
   "outputs": [
    {
     "name": "stderr",
     "output_type": "stream",
     "text": [
      "C:\\Users\\amald\\AppData\\Local\\Temp\\ipykernel_12708\\2383194941.py:1: FutureWarning: 'S' is deprecated and will be removed in a future version, please use 's' instead.\n",
      "  df['Post_timestamp'] = pd.to_datetime(df['Post_timestamp']).dt.floor('S')\n",
      "C:\\Users\\amald\\AppData\\Local\\Temp\\ipykernel_12708\\2383194941.py:1: SettingWithCopyWarning: \n",
      "A value is trying to be set on a copy of a slice from a DataFrame.\n",
      "Try using .loc[row_indexer,col_indexer] = value instead\n",
      "\n",
      "See the caveats in the documentation: https://pandas.pydata.org/pandas-docs/stable/user_guide/indexing.html#returning-a-view-versus-a-copy\n",
      "  df['Post_timestamp'] = pd.to_datetime(df['Post_timestamp']).dt.floor('S')\n"
     ]
    }
   ],
   "source": [
    "df['Post_timestamp'] = pd.to_datetime(df['Post_timestamp']).dt.floor('S')\n",
    "\n"
   ]
  },
  {
   "cell_type": "code",
   "execution_count": 134,
   "metadata": {},
   "outputs": [
    {
     "name": "stderr",
     "output_type": "stream",
     "text": [
      "C:\\Users\\amald\\AppData\\Local\\Temp\\ipykernel_12708\\734492083.py:1: SettingWithCopyWarning: \n",
      "A value is trying to be set on a copy of a slice from a DataFrame.\n",
      "Try using .loc[row_indexer,col_indexer] = value instead\n",
      "\n",
      "See the caveats in the documentation: https://pandas.pydata.org/pandas-docs/stable/user_guide/indexing.html#returning-a-view-versus-a-copy\n",
      "  df['Post_timestamp'] = pd.to_datetime(df['Post_timestamp'], format='%Y-%m-%d %H:%M:%S')\n"
     ]
    }
   ],
   "source": [
    "df['Post_timestamp'] = pd.to_datetime(df['Post_timestamp'], format='%Y-%m-%d %H:%M:%S')\n"
   ]
  },
  {
   "cell_type": "code",
   "execution_count": 135,
   "metadata": {},
   "outputs": [
    {
     "data": {
      "text/plain": [
       "dtype('<M8[ns]')"
      ]
     },
     "execution_count": 135,
     "metadata": {},
     "output_type": "execute_result"
    }
   ],
   "source": [
    "df['Post_timestamp'].dtype"
   ]
  },
  {
   "cell_type": "code",
   "execution_count": 136,
   "metadata": {},
   "outputs": [],
   "source": [
    "pivot=pd.pivot_table(\n",
    "    data=df,\n",
    "    index=df['Post_timestamp'].dt.day_of_week,\n",
    "    values='Likes',\n",
    "    aggfunc='sum'\n",
    ")\n",
    "dfa=pivot.reset_index()"
   ]
  },
  {
   "cell_type": "code",
   "execution_count": 137,
   "metadata": {},
   "outputs": [],
   "source": [
    "mapping = {\n",
    "0:'Monday',\n",
    "1:'Tuesday',\n",
    "2:'Wednesday',\n",
    "3:'Thursday',\n",
    "4:'Friday',\n",
    "5:'Saturday',\n",
    "6:'Sunday',\n",
    "\n",
    "}"
   ]
  },
  {
   "cell_type": "code",
   "execution_count": 138,
   "metadata": {},
   "outputs": [],
   "source": [
    "dfa['Post_timestamp']=dfa['Post_timestamp'].replace(mapping)"
   ]
  },
  {
   "cell_type": "code",
   "execution_count": 139,
   "metadata": {},
   "outputs": [
    {
     "data": {
      "text/html": [
       "<div>\n",
       "<style scoped>\n",
       "    .dataframe tbody tr th:only-of-type {\n",
       "        vertical-align: middle;\n",
       "    }\n",
       "\n",
       "    .dataframe tbody tr th {\n",
       "        vertical-align: top;\n",
       "    }\n",
       "\n",
       "    .dataframe thead th {\n",
       "        text-align: right;\n",
       "    }\n",
       "</style>\n",
       "<table border=\"1\" class=\"dataframe\">\n",
       "  <thead>\n",
       "    <tr style=\"text-align: right;\">\n",
       "      <th></th>\n",
       "      <th>Post_timestamp</th>\n",
       "      <th>Likes</th>\n",
       "    </tr>\n",
       "  </thead>\n",
       "  <tbody>\n",
       "    <tr>\n",
       "      <th>0</th>\n",
       "      <td>Monday</td>\n",
       "      <td>67755</td>\n",
       "    </tr>\n",
       "    <tr>\n",
       "      <th>1</th>\n",
       "      <td>Tuesday</td>\n",
       "      <td>74989</td>\n",
       "    </tr>\n",
       "    <tr>\n",
       "      <th>2</th>\n",
       "      <td>Wednesday</td>\n",
       "      <td>69600</td>\n",
       "    </tr>\n",
       "    <tr>\n",
       "      <th>3</th>\n",
       "      <td>Thursday</td>\n",
       "      <td>84424</td>\n",
       "    </tr>\n",
       "    <tr>\n",
       "      <th>4</th>\n",
       "      <td>Friday</td>\n",
       "      <td>72039</td>\n",
       "    </tr>\n",
       "    <tr>\n",
       "      <th>5</th>\n",
       "      <td>Saturday</td>\n",
       "      <td>70157</td>\n",
       "    </tr>\n",
       "    <tr>\n",
       "      <th>6</th>\n",
       "      <td>Sunday</td>\n",
       "      <td>65907</td>\n",
       "    </tr>\n",
       "  </tbody>\n",
       "</table>\n",
       "</div>"
      ],
      "text/plain": [
       "  Post_timestamp  Likes\n",
       "0         Monday  67755\n",
       "1        Tuesday  74989\n",
       "2      Wednesday  69600\n",
       "3       Thursday  84424\n",
       "4         Friday  72039\n",
       "5       Saturday  70157\n",
       "6         Sunday  65907"
      ]
     },
     "execution_count": 139,
     "metadata": {},
     "output_type": "execute_result"
    }
   ],
   "source": [
    "dfa"
   ]
  },
  {
   "cell_type": "code",
   "execution_count": 140,
   "metadata": {},
   "outputs": [
    {
     "name": "stderr",
     "output_type": "stream",
     "text": [
      "C:\\Users\\amald\\AppData\\Local\\Temp\\ipykernel_12708\\2593814221.py:2: FutureWarning: \n",
      "\n",
      "Passing `palette` without assigning `hue` is deprecated and will be removed in v0.14.0. Assign the `x` variable to `hue` and set `legend=False` for the same effect.\n",
      "\n",
      "  sns.barplot(data=dfa, x='Post_timestamp', y='Likes', palette='winter_r')\n"
     ]
    },
    {
     "data": {
      "image/png": "[encoded data removed]",
      "text/plain": [
       "<Figure size 900x400 with 1 Axes>"
      ]
     },
     "metadata": {},
     "output_type": "display_data"
    }
   ],
   "source": [
    "plt.figure(figsize=(9,4))\n",
    "sns.barplot(data=dfa, x='Post_timestamp', y='Likes', palette='winter_r')\n",
    "plt.title('Likes per week')\n",
    "plt.xlabel('Week Days')\n",
    "plt.ylabel('Likes')\n",
    "plt.show()"
   ]
  },
  {
   "cell_type": "markdown",
   "metadata": {},
   "source": [
    "The social media engagement data reveals that Thursday garners the most likes throughout the week, indicating peak user interaction. Close behind, Tuesday and Friday also show high engagement levels, suggesting that users are particularly active on these days as well. In contrast, Sunday has the lowest like rate, which may reflect decreased online activity as users unwind or focus on offline activities. This pattern emphasizes the importance of scheduling posts and campaigns on high-engagement days like Thursday, Tuesday, and Friday to maximize visibility and interaction. Understanding these trends allows for more strategic planning to enhance social media impact."
   ]
  },
  {
   "cell_type": "code",
   "execution_count": 141,
   "metadata": {},
   "outputs": [
    {
     "data": {
      "text/html": [
       "<div>\n",
       "<style scoped>\n",
       "    .dataframe tbody tr th:only-of-type {\n",
       "        vertical-align: middle;\n",
       "    }\n",
       "\n",
       "    .dataframe tbody tr th {\n",
       "        vertical-align: top;\n",
       "    }\n",
       "\n",
       "    .dataframe thead th {\n",
       "        text-align: right;\n",
       "    }\n",
       "</style>\n",
       "<table border=\"1\" class=\"dataframe\">\n",
       "  <thead>\n",
       "    <tr style=\"text-align: right;\">\n",
       "      <th></th>\n",
       "      <th>Platform</th>\n",
       "      <th>Post_id</th>\n",
       "      <th>Post_type</th>\n",
       "      <th>Post_content</th>\n",
       "      <th>Post_timestamp</th>\n",
       "      <th>Likes</th>\n",
       "      <th>Comments</th>\n",
       "      <th>Shares</th>\n",
       "      <th>Impressions</th>\n",
       "      <th>Reach</th>\n",
       "      <th>Engagement_rate</th>\n",
       "      <th>Audience_age</th>\n",
       "      <th>Audience_gender</th>\n",
       "      <th>Audience_location</th>\n",
       "      <th>Audience_interests</th>\n",
       "      <th>Sentiment</th>\n",
       "    </tr>\n",
       "  </thead>\n",
       "  <tbody>\n",
       "    <tr>\n",
       "      <th>118</th>\n",
       "      <td>Instagram</td>\n",
       "      <td>91924a08-f836-4887-8a33-88c83577a6eb</td>\n",
       "      <td>Video</td>\n",
       "      <td>Station weight rule today.</td>\n",
       "      <td>2023-09-15 05:51:01</td>\n",
       "      <td>102</td>\n",
       "      <td>339</td>\n",
       "      <td>191</td>\n",
       "      <td>9035</td>\n",
       "      <td>3820</td>\n",
       "      <td>16.54</td>\n",
       "      <td>51</td>\n",
       "      <td>Other</td>\n",
       "      <td>Cyprus</td>\n",
       "      <td>dog</td>\n",
       "      <td>Positive</td>\n",
       "    </tr>\n",
       "    <tr>\n",
       "      <th>157</th>\n",
       "      <td>Facebook</td>\n",
       "      <td>854dcd1e-e09c-4683-ba10-bd231140fff9</td>\n",
       "      <td>Video</td>\n",
       "      <td>End for wait since every city career sort.</td>\n",
       "      <td>2021-07-29 16:32:27</td>\n",
       "      <td>695</td>\n",
       "      <td>326</td>\n",
       "      <td>69</td>\n",
       "      <td>1349</td>\n",
       "      <td>1024</td>\n",
       "      <td>106.45</td>\n",
       "      <td>44</td>\n",
       "      <td>Female</td>\n",
       "      <td>Martinique</td>\n",
       "      <td>according</td>\n",
       "      <td>Neutral</td>\n",
       "    </tr>\n",
       "  </tbody>\n",
       "</table>\n",
       "</div>"
      ],
      "text/plain": [
       "      Platform                               Post_id Post_type  \\\n",
       "118  Instagram  91924a08-f836-4887-8a33-88c83577a6eb     Video   \n",
       "157   Facebook  854dcd1e-e09c-4683-ba10-bd231140fff9     Video   \n",
       "\n",
       "                                   Post_content      Post_timestamp  Likes  \\\n",
       "118                  Station weight rule today. 2023-09-15 05:51:01    102   \n",
       "157  End for wait since every city career sort. 2021-07-29 16:32:27    695   \n",
       "\n",
       "     Comments  Shares  Impressions  Reach  Engagement_rate  Audience_age  \\\n",
       "118       339     191         9035   3820            16.54            51   \n",
       "157       326      69         1349   1024           106.45            44   \n",
       "\n",
       "    Audience_gender Audience_location Audience_interests Sentiment  \n",
       "118           Other            Cyprus                dog  Positive  \n",
       "157          Female        Martinique          according   Neutral  "
      ]
     },
     "execution_count": 141,
     "metadata": {},
     "output_type": "execute_result"
    }
   ],
   "source": [
    "df.head(2)"
   ]
  },
  {
   "cell_type": "markdown",
   "metadata": {},
   "source": [
    " ## *Identifying the weekday having maximum reach?*"
   ]
  },
  {
   "cell_type": "code",
   "execution_count": 142,
   "metadata": {},
   "outputs": [],
   "source": [
    "pivot=pd.pivot_table(\n",
    "    data=df,\n",
    "    index=df['Post_timestamp'].dt.day_of_week,\n",
    "    values='Reach',\n",
    "    aggfunc='sum'\n",
    ")\n",
    "weekly_reach=pivot.reset_index()\n",
    "\n",
    "\n",
    "mapping = {\n",
    "0:'Monday',\n",
    "1:'Tuesday',\n",
    "2:'Wednesday',\n",
    "3:'Thursday',\n",
    "4:'Friday',\n",
    "5:'Saturday',\n",
    "6:'Sunday',\n",
    "\n",
    "}\n",
    "weekly_reach['Post_timestamp']=weekly_reach['Post_timestamp'].replace(mapping)"
   ]
  },
  {
   "cell_type": "code",
   "execution_count": 143,
   "metadata": {},
   "outputs": [
    {
     "data": {
      "text/html": [
       "<div>\n",
       "<style scoped>\n",
       "    .dataframe tbody tr th:only-of-type {\n",
       "        vertical-align: middle;\n",
       "    }\n",
       "\n",
       "    .dataframe tbody tr th {\n",
       "        vertical-align: top;\n",
       "    }\n",
       "\n",
       "    .dataframe thead th {\n",
       "        text-align: right;\n",
       "    }\n",
       "</style>\n",
       "<table border=\"1\" class=\"dataframe\">\n",
       "  <thead>\n",
       "    <tr style=\"text-align: right;\">\n",
       "      <th></th>\n",
       "      <th>Post_timestamp</th>\n",
       "      <th>Reach</th>\n",
       "    </tr>\n",
       "  </thead>\n",
       "  <tbody>\n",
       "    <tr>\n",
       "      <th>0</th>\n",
       "      <td>Monday</td>\n",
       "      <td>339812</td>\n",
       "    </tr>\n",
       "    <tr>\n",
       "      <th>1</th>\n",
       "      <td>Tuesday</td>\n",
       "      <td>398615</td>\n",
       "    </tr>\n",
       "    <tr>\n",
       "      <th>2</th>\n",
       "      <td>Wednesday</td>\n",
       "      <td>390072</td>\n",
       "    </tr>\n",
       "    <tr>\n",
       "      <th>3</th>\n",
       "      <td>Thursday</td>\n",
       "      <td>443035</td>\n",
       "    </tr>\n",
       "    <tr>\n",
       "      <th>4</th>\n",
       "      <td>Friday</td>\n",
       "      <td>394390</td>\n",
       "    </tr>\n",
       "    <tr>\n",
       "      <th>5</th>\n",
       "      <td>Saturday</td>\n",
       "      <td>423491</td>\n",
       "    </tr>\n",
       "    <tr>\n",
       "      <th>6</th>\n",
       "      <td>Sunday</td>\n",
       "      <td>371945</td>\n",
       "    </tr>\n",
       "  </tbody>\n",
       "</table>\n",
       "</div>"
      ],
      "text/plain": [
       "  Post_timestamp   Reach\n",
       "0         Monday  339812\n",
       "1        Tuesday  398615\n",
       "2      Wednesday  390072\n",
       "3       Thursday  443035\n",
       "4         Friday  394390\n",
       "5       Saturday  423491\n",
       "6         Sunday  371945"
      ]
     },
     "execution_count": 143,
     "metadata": {},
     "output_type": "execute_result"
    }
   ],
   "source": [
    "weekly_reach"
   ]
  },
  {
   "cell_type": "code",
   "execution_count": 144,
   "metadata": {},
   "outputs": [
    {
     "name": "stderr",
     "output_type": "stream",
     "text": [
      "C:\\Users\\amald\\AppData\\Local\\Temp\\ipykernel_12708\\2774223660.py:2: FutureWarning: \n",
      "\n",
      "Passing `palette` without assigning `hue` is deprecated and will be removed in v0.14.0. Assign the `x` variable to `hue` and set `legend=False` for the same effect.\n",
      "\n",
      "  sns.barplot(data=weekly_reach, x='Post_timestamp', y='Reach', palette='nipy_spectral')\n"
     ]
    },
    {
     "data": {
      "image/png": "[encoded data removed]",
      "text/plain": [
       "<Figure size 900x400 with 1 Axes>"
      ]
     },
     "metadata": {},
     "output_type": "display_data"
    }
   ],
   "source": [
    "plt.figure(figsize=(9,4))\n",
    "sns.barplot(data=weekly_reach, x='Post_timestamp', y='Reach', palette='nipy_spectral')\n",
    "plt.title('Reach per week')\n",
    "plt.xlabel('Week Days')\n",
    "plt.ylabel('Reach')\n",
    "plt.show()\n"
   ]
  },
  {
   "cell_type": "markdown",
   "metadata": {},
   "source": [
    "The bar chart displays the weekly reach across different days. Thursday and Saturday have the highest reach, each exceeding 400,000, indicating peak engagement during these days. Tuesday and Wednesday also show strong performance, while Monday and Sunday have the lowest reach, each just under 400,000. This pattern suggests that midweek and weekends are the most effective times for reaching a larger audience, highlighting key days for maximizing engagement and visibility in digital strategies."
   ]
  },
  {
   "cell_type": "markdown",
   "metadata": {},
   "source": [
    " ## *Identifying the month having maximum reach?*"
   ]
  },
  {
   "cell_type": "code",
   "execution_count": 145,
   "metadata": {},
   "outputs": [],
   "source": [
    "pivot=pd.pivot_table(\n",
    "    data=df,\n",
    "    index=df['Post_timestamp'].dt.month,\n",
    "    values='Reach',\n",
    "    aggfunc='sum'\n",
    ")\n",
    "monthly_reach=pivot.reset_index()\n",
    "\n",
    "\n",
    "mapping = {\n",
    "1:'January',\n",
    "2:'February',\n",
    "3:'March',\n",
    "4:'April',\n",
    "5:'May',\n",
    "6:'June',\n",
    "7:'July',\n",
    "8:'August',\n",
    "9:'September',\n",
    "10:'October',\n",
    "11:'November',\n",
    "12:'December',\n",
    "}\n",
    "monthly_reach['Post_timestamp']=monthly_reach['Post_timestamp'].replace(mapping)"
   ]
  },
  {
   "cell_type": "code",
   "execution_count": 146,
   "metadata": {},
   "outputs": [
    {
     "data": {
      "text/html": [
       "<div>\n",
       "<style scoped>\n",
       "    .dataframe tbody tr th:only-of-type {\n",
       "        vertical-align: middle;\n",
       "    }\n",
       "\n",
       "    .dataframe tbody tr th {\n",
       "        vertical-align: top;\n",
       "    }\n",
       "\n",
       "    .dataframe thead th {\n",
       "        text-align: right;\n",
       "    }\n",
       "</style>\n",
       "<table border=\"1\" class=\"dataframe\">\n",
       "  <thead>\n",
       "    <tr style=\"text-align: right;\">\n",
       "      <th></th>\n",
       "      <th>Post_timestamp</th>\n",
       "      <th>Reach</th>\n",
       "    </tr>\n",
       "  </thead>\n",
       "  <tbody>\n",
       "    <tr>\n",
       "      <th>0</th>\n",
       "      <td>January</td>\n",
       "      <td>232122</td>\n",
       "    </tr>\n",
       "    <tr>\n",
       "      <th>1</th>\n",
       "      <td>February</td>\n",
       "      <td>193142</td>\n",
       "    </tr>\n",
       "    <tr>\n",
       "      <th>2</th>\n",
       "      <td>March</td>\n",
       "      <td>272125</td>\n",
       "    </tr>\n",
       "    <tr>\n",
       "      <th>3</th>\n",
       "      <td>April</td>\n",
       "      <td>219058</td>\n",
       "    </tr>\n",
       "    <tr>\n",
       "      <th>4</th>\n",
       "      <td>May</td>\n",
       "      <td>231196</td>\n",
       "    </tr>\n",
       "    <tr>\n",
       "      <th>5</th>\n",
       "      <td>June</td>\n",
       "      <td>267775</td>\n",
       "    </tr>\n",
       "    <tr>\n",
       "      <th>6</th>\n",
       "      <td>July</td>\n",
       "      <td>270134</td>\n",
       "    </tr>\n",
       "    <tr>\n",
       "      <th>7</th>\n",
       "      <td>August</td>\n",
       "      <td>202867</td>\n",
       "    </tr>\n",
       "    <tr>\n",
       "      <th>8</th>\n",
       "      <td>September</td>\n",
       "      <td>231654</td>\n",
       "    </tr>\n",
       "    <tr>\n",
       "      <th>9</th>\n",
       "      <td>October</td>\n",
       "      <td>225426</td>\n",
       "    </tr>\n",
       "    <tr>\n",
       "      <th>10</th>\n",
       "      <td>November</td>\n",
       "      <td>243599</td>\n",
       "    </tr>\n",
       "    <tr>\n",
       "      <th>11</th>\n",
       "      <td>December</td>\n",
       "      <td>172262</td>\n",
       "    </tr>\n",
       "  </tbody>\n",
       "</table>\n",
       "</div>"
      ],
      "text/plain": [
       "   Post_timestamp   Reach\n",
       "0         January  232122\n",
       "1        February  193142\n",
       "2           March  272125\n",
       "3           April  219058\n",
       "4             May  231196\n",
       "5            June  267775\n",
       "6            July  270134\n",
       "7          August  202867\n",
       "8       September  231654\n",
       "9         October  225426\n",
       "10       November  243599\n",
       "11       December  172262"
      ]
     },
     "execution_count": 146,
     "metadata": {},
     "output_type": "execute_result"
    }
   ],
   "source": [
    "monthly_reach"
   ]
  },
  {
   "cell_type": "code",
   "execution_count": 147,
   "metadata": {},
   "outputs": [
    {
     "name": "stderr",
     "output_type": "stream",
     "text": [
      "C:\\Users\\amald\\AppData\\Local\\Temp\\ipykernel_12708\\1378084894.py:2: FutureWarning: \n",
      "\n",
      "Passing `palette` without assigning `hue` is deprecated and will be removed in v0.14.0. Assign the `x` variable to `hue` and set `legend=False` for the same effect.\n",
      "\n",
      "  sns.barplot(data=monthly_reach, x='Post_timestamp', y='Reach', palette='Paired')\n"
     ]
    },
    {
     "data": {
      "image/png": "[encoded data removed]",
      "text/plain": [
       "<Figure size 1200x400 with 1 Axes>"
      ]
     },
     "metadata": {},
     "output_type": "display_data"
    }
   ],
   "source": [
    "plt.figure(figsize=(12,4))\n",
    "sns.barplot(data=monthly_reach, x='Post_timestamp', y='Reach', palette='Paired')\n",
    "plt.title('Reach per Month')\n",
    "plt.xlabel('Months')\n",
    "plt.ylabel('Reach')\n",
    "plt.show()"
   ]
  },
  {
   "cell_type": "markdown",
   "metadata": {},
   "source": [
    "March, June, and July see the highest reach in social media throughout the year, likely due to seasonal trends and key events. In March, spring promotions and renewed user activity after winter could drive engagement. June marks the beginning of summer, with increased online activity as people plan vacations and events. July often features holiday celebrations like the Fourth of July in the U.S., boosting social interactions. To capitalize on these peaks, schedule important announcements, promotions, and high-quality content during these months. Additionally, consider allocating a larger portion of your ad budget to these periods to maximize reach and engagement.\n"
   ]
  },
  {
   "cell_type": "markdown",
   "metadata": {},
   "source": [
    " ## *Identifying the quarter having maximum reach?*"
   ]
  },
  {
   "cell_type": "code",
   "execution_count": 148,
   "metadata": {},
   "outputs": [],
   "source": [
    "pivot=pd.pivot_table(\n",
    "    data=df,\n",
    "    index=df['Post_timestamp'].dt.quarter,\n",
    "    values='Reach',\n",
    "    aggfunc='sum'\n",
    ")\n",
    "qtr=pivot.reset_index()\n",
    "\n",
    "\n",
    "mapping = {\n",
    "1:'First Quarter',\n",
    "2:'Second Quarter',\n",
    "3:'Third Quarter',\n",
    "4:'Fourth Quarter',\n",
    "\n",
    "\n",
    "}\n",
    "qtr['Post_timestamp']=qtr['Post_timestamp'].replace(mapping)\n"
   ]
  },
  {
   "cell_type": "code",
   "execution_count": 149,
   "metadata": {},
   "outputs": [
    {
     "data": {
      "text/html": [
       "<div>\n",
       "<style scoped>\n",
       "    .dataframe tbody tr th:only-of-type {\n",
       "        vertical-align: middle;\n",
       "    }\n",
       "\n",
       "    .dataframe tbody tr th {\n",
       "        vertical-align: top;\n",
       "    }\n",
       "\n",
       "    .dataframe thead th {\n",
       "        text-align: right;\n",
       "    }\n",
       "</style>\n",
       "<table border=\"1\" class=\"dataframe\">\n",
       "  <thead>\n",
       "    <tr style=\"text-align: right;\">\n",
       "      <th></th>\n",
       "      <th>Post_timestamp</th>\n",
       "      <th>Reach</th>\n",
       "    </tr>\n",
       "  </thead>\n",
       "  <tbody>\n",
       "    <tr>\n",
       "      <th>0</th>\n",
       "      <td>First Quarter</td>\n",
       "      <td>697389</td>\n",
       "    </tr>\n",
       "    <tr>\n",
       "      <th>1</th>\n",
       "      <td>Second Quarter</td>\n",
       "      <td>718029</td>\n",
       "    </tr>\n",
       "    <tr>\n",
       "      <th>2</th>\n",
       "      <td>Third Quarter</td>\n",
       "      <td>704655</td>\n",
       "    </tr>\n",
       "    <tr>\n",
       "      <th>3</th>\n",
       "      <td>Fourth Quarter</td>\n",
       "      <td>641287</td>\n",
       "    </tr>\n",
       "  </tbody>\n",
       "</table>\n",
       "</div>"
      ],
      "text/plain": [
       "   Post_timestamp   Reach\n",
       "0   First Quarter  697389\n",
       "1  Second Quarter  718029\n",
       "2   Third Quarter  704655\n",
       "3  Fourth Quarter  641287"
      ]
     },
     "execution_count": 149,
     "metadata": {},
     "output_type": "execute_result"
    }
   ],
   "source": [
    "qtr"
   ]
  },
  {
   "cell_type": "code",
   "execution_count": 150,
   "metadata": {},
   "outputs": [
    {
     "name": "stderr",
     "output_type": "stream",
     "text": [
      "C:\\Users\\amald\\AppData\\Local\\Temp\\ipykernel_12708\\4023997707.py:2: FutureWarning: \n",
      "\n",
      "Passing `palette` without assigning `hue` is deprecated and will be removed in v0.14.0. Assign the `x` variable to `hue` and set `legend=False` for the same effect.\n",
      "\n",
      "  sns.barplot(data=qtr, x='Post_timestamp', y='Reach', palette='spring_r')\n"
     ]
    },
    {
     "data": {
      "image/png": "[encoded data removed]",
      "text/plain": [
       "<Figure size 1200x400 with 1 Axes>"
      ]
     },
     "metadata": {},
     "output_type": "display_data"
    }
   ],
   "source": [
    "plt.figure(figsize=(12,4))\n",
    "sns.barplot(data=qtr, x='Post_timestamp', y='Reach', palette='spring_r')\n",
    "plt.title('Reach per Quarter')\n",
    "plt.xlabel('Quarter')\n",
    "plt.ylabel('Reach')\n",
    "plt.show()"
   ]
  },
  {
   "cell_type": "markdown",
   "metadata": {},
   "source": [
    "The Indian calendar's second and third quarters have the most reach, according to the social media bar chart. The celebration of Holi, the beginning of summer, and school breaks cause a spike in internet activity throughout the second quarter, which spans April, May, and June. The monsoon season, which keeps people indoors and encourages increased online involvement, as well as holidays like Raksha Bandhan, Janmashtami, Aadi sale, Onam and Independence Day, contribute to the third quarter's ongoing high engagement levels, which span July, August, and September. Brands should carefully schedule their promotions, content, and advertising campaigns around these peak times, matching the seasonal and cultural patterns that spur increased social media activity, in order to optimize reach and engagement. "
   ]
  },
  {
   "cell_type": "code",
   "execution_count": 151,
   "metadata": {},
   "outputs": [
    {
     "data": {
      "text/html": [
       "<div>\n",
       "<style scoped>\n",
       "    .dataframe tbody tr th:only-of-type {\n",
       "        vertical-align: middle;\n",
       "    }\n",
       "\n",
       "    .dataframe tbody tr th {\n",
       "        vertical-align: top;\n",
       "    }\n",
       "\n",
       "    .dataframe thead th {\n",
       "        text-align: right;\n",
       "    }\n",
       "</style>\n",
       "<table border=\"1\" class=\"dataframe\">\n",
       "  <thead>\n",
       "    <tr style=\"text-align: right;\">\n",
       "      <th></th>\n",
       "      <th>Platform</th>\n",
       "      <th>Post_id</th>\n",
       "      <th>Post_type</th>\n",
       "      <th>Post_content</th>\n",
       "      <th>Post_timestamp</th>\n",
       "      <th>Likes</th>\n",
       "      <th>Comments</th>\n",
       "      <th>Shares</th>\n",
       "      <th>Impressions</th>\n",
       "      <th>Reach</th>\n",
       "      <th>Engagement_rate</th>\n",
       "      <th>Audience_age</th>\n",
       "      <th>Audience_gender</th>\n",
       "      <th>Audience_location</th>\n",
       "      <th>Audience_interests</th>\n",
       "      <th>Sentiment</th>\n",
       "    </tr>\n",
       "  </thead>\n",
       "  <tbody>\n",
       "    <tr>\n",
       "      <th>118</th>\n",
       "      <td>Instagram</td>\n",
       "      <td>91924a08-f836-4887-8a33-88c83577a6eb</td>\n",
       "      <td>Video</td>\n",
       "      <td>Station weight rule today.</td>\n",
       "      <td>2023-09-15 05:51:01</td>\n",
       "      <td>102</td>\n",
       "      <td>339</td>\n",
       "      <td>191</td>\n",
       "      <td>9035</td>\n",
       "      <td>3820</td>\n",
       "      <td>16.54</td>\n",
       "      <td>51</td>\n",
       "      <td>Other</td>\n",
       "      <td>Cyprus</td>\n",
       "      <td>dog</td>\n",
       "      <td>Positive</td>\n",
       "    </tr>\n",
       "    <tr>\n",
       "      <th>157</th>\n",
       "      <td>Facebook</td>\n",
       "      <td>854dcd1e-e09c-4683-ba10-bd231140fff9</td>\n",
       "      <td>Video</td>\n",
       "      <td>End for wait since every city career sort.</td>\n",
       "      <td>2021-07-29 16:32:27</td>\n",
       "      <td>695</td>\n",
       "      <td>326</td>\n",
       "      <td>69</td>\n",
       "      <td>1349</td>\n",
       "      <td>1024</td>\n",
       "      <td>106.45</td>\n",
       "      <td>44</td>\n",
       "      <td>Female</td>\n",
       "      <td>Martinique</td>\n",
       "      <td>according</td>\n",
       "      <td>Neutral</td>\n",
       "    </tr>\n",
       "  </tbody>\n",
       "</table>\n",
       "</div>"
      ],
      "text/plain": [
       "      Platform                               Post_id Post_type  \\\n",
       "118  Instagram  91924a08-f836-4887-8a33-88c83577a6eb     Video   \n",
       "157   Facebook  854dcd1e-e09c-4683-ba10-bd231140fff9     Video   \n",
       "\n",
       "                                   Post_content      Post_timestamp  Likes  \\\n",
       "118                  Station weight rule today. 2023-09-15 05:51:01    102   \n",
       "157  End for wait since every city career sort. 2021-07-29 16:32:27    695   \n",
       "\n",
       "     Comments  Shares  Impressions  Reach  Engagement_rate  Audience_age  \\\n",
       "118       339     191         9035   3820            16.54            51   \n",
       "157       326      69         1349   1024           106.45            44   \n",
       "\n",
       "    Audience_gender Audience_location Audience_interests Sentiment  \n",
       "118           Other            Cyprus                dog  Positive  \n",
       "157          Female        Martinique          according   Neutral  "
      ]
     },
     "execution_count": 151,
     "metadata": {},
     "output_type": "execute_result"
    }
   ],
   "source": [
    "df.head(2)"
   ]
  },
  {
   "cell_type": "markdown",
   "metadata": {},
   "source": []
  },
  {
   "cell_type": "markdown",
   "metadata": {},
   "source": [
    "## *Identifying the weekday having maximum Engagement rate?*"
   ]
  },
  {
   "cell_type": "code",
   "execution_count": 152,
   "metadata": {},
   "outputs": [],
   "source": [
    "pivot=pd.pivot_table(\n",
    "    data=df,\n",
    "    index=df['Post_timestamp'].dt.day_of_week,\n",
    "    values='Engagement_rate',\n",
    "    aggfunc='sum'\n",
    ")\n",
    "weekly_eng=pivot.reset_index()\n",
    "\n",
    "\n",
    "mapping = {\n",
    "0:'Monday',\n",
    "1:'Tuesday',\n",
    "2:'Wednesday',\n",
    "3:'Thursday',\n",
    "4:'Friday',\n",
    "5:'Saturday',\n",
    "6:'Sunday',\n",
    "\n",
    "}\n",
    "weekly_eng['Post_timestamp']=weekly_eng['Post_timestamp'].replace(mapping)"
   ]
  },
  {
   "cell_type": "code",
   "execution_count": 153,
   "metadata": {},
   "outputs": [
    {
     "data": {
      "text/html": [
       "<div>\n",
       "<style scoped>\n",
       "    .dataframe tbody tr th:only-of-type {\n",
       "        vertical-align: middle;\n",
       "    }\n",
       "\n",
       "    .dataframe tbody tr th {\n",
       "        vertical-align: top;\n",
       "    }\n",
       "\n",
       "    .dataframe thead th {\n",
       "        text-align: right;\n",
       "    }\n",
       "</style>\n",
       "<table border=\"1\" class=\"dataframe\">\n",
       "  <thead>\n",
       "    <tr style=\"text-align: right;\">\n",
       "      <th></th>\n",
       "      <th>Post_timestamp</th>\n",
       "      <th>Engagement_rate</th>\n",
       "    </tr>\n",
       "  </thead>\n",
       "  <tbody>\n",
       "    <tr>\n",
       "      <th>0</th>\n",
       "      <td>Monday</td>\n",
       "      <td>5721.06</td>\n",
       "    </tr>\n",
       "    <tr>\n",
       "      <th>1</th>\n",
       "      <td>Tuesday</td>\n",
       "      <td>6255.47</td>\n",
       "    </tr>\n",
       "    <tr>\n",
       "      <th>2</th>\n",
       "      <td>Wednesday</td>\n",
       "      <td>5411.43</td>\n",
       "    </tr>\n",
       "    <tr>\n",
       "      <th>3</th>\n",
       "      <td>Thursday</td>\n",
       "      <td>7717.21</td>\n",
       "    </tr>\n",
       "    <tr>\n",
       "      <th>4</th>\n",
       "      <td>Friday</td>\n",
       "      <td>6369.55</td>\n",
       "    </tr>\n",
       "    <tr>\n",
       "      <th>5</th>\n",
       "      <td>Saturday</td>\n",
       "      <td>5988.06</td>\n",
       "    </tr>\n",
       "    <tr>\n",
       "      <th>6</th>\n",
       "      <td>Sunday</td>\n",
       "      <td>5805.46</td>\n",
       "    </tr>\n",
       "  </tbody>\n",
       "</table>\n",
       "</div>"
      ],
      "text/plain": [
       "  Post_timestamp  Engagement_rate\n",
       "0         Monday          5721.06\n",
       "1        Tuesday          6255.47\n",
       "2      Wednesday          5411.43\n",
       "3       Thursday          7717.21\n",
       "4         Friday          6369.55\n",
       "5       Saturday          5988.06\n",
       "6         Sunday          5805.46"
      ]
     },
     "execution_count": 153,
     "metadata": {},
     "output_type": "execute_result"
    }
   ],
   "source": [
    "weekly_eng"
   ]
  },
  {
   "cell_type": "code",
   "execution_count": 154,
   "metadata": {},
   "outputs": [
    {
     "name": "stderr",
     "output_type": "stream",
     "text": [
      "C:\\Users\\amald\\AppData\\Local\\Temp\\ipykernel_12708\\4075915731.py:2: FutureWarning: \n",
      "\n",
      "Passing `palette` without assigning `hue` is deprecated and will be removed in v0.14.0. Assign the `x` variable to `hue` and set `legend=False` for the same effect.\n",
      "\n",
      "  sns.barplot(data=weekly_eng, x='Post_timestamp', y='Engagement_rate', palette='viridis_r')\n"
     ]
    },
    {
     "data": {
      "image/png": "[encoded data removed]",
      "text/plain": [
       "<Figure size 900x400 with 1 Axes>"
      ]
     },
     "metadata": {},
     "output_type": "display_data"
    }
   ],
   "source": [
    "plt.figure(figsize=(9,4))\n",
    "sns.barplot(data=weekly_eng, x='Post_timestamp', y='Engagement_rate', palette='viridis_r')\n",
    "plt.title('Engagement Rate per week')\n",
    "plt.xlabel('Week Days')\n",
    "plt.ylabel('Engagement Rate')\n",
    "plt.show()"
   ]
  },
  {
   "cell_type": "markdown",
   "metadata": {},
   "source": [
    "The social media bar chart reveals that Thursday has the highest engagement rate compared to other days of the week. This peak in engagement suggests that users are particularly active and responsive to content on Thursdays. For brands and marketers, this insight is valuable for optimizing the timing of posts, announcements, and campaigns. By scheduling key content and promotions on Thursdays, businesses can take advantage of this heightened user activity to maximize reach and interaction, thereby enhancing the effectiveness of their social media strategies."
   ]
  },
  {
   "cell_type": "markdown",
   "metadata": {},
   "source": [
    " ## *Identifying the month having maximum Engagement rate?*"
   ]
  },
  {
   "cell_type": "code",
   "execution_count": 155,
   "metadata": {},
   "outputs": [],
   "source": [
    "pivot=pd.pivot_table(\n",
    "    data=df,\n",
    "    index=df['Post_timestamp'].dt.month,\n",
    "    values='Engagement_rate',\n",
    "    aggfunc='sum'\n",
    ")\n",
    "monthly_eng=pivot.reset_index()\n",
    "\n",
    "\n",
    "mapping = {\n",
    "1:'January',\n",
    "2:'February',\n",
    "3:'March',\n",
    "4:'April',\n",
    "5:'May',\n",
    "6:'June',\n",
    "7:'July',\n",
    "8:'August',\n",
    "9:'September',\n",
    "10:'October',\n",
    "11:'November',\n",
    "12:'December',\n",
    "}\n",
    "monthly_eng['Post_timestamp']=monthly_eng['Post_timestamp'].replace(mapping)"
   ]
  },
  {
   "cell_type": "code",
   "execution_count": 156,
   "metadata": {},
   "outputs": [
    {
     "data": {
      "text/html": [
       "<div>\n",
       "<style scoped>\n",
       "    .dataframe tbody tr th:only-of-type {\n",
       "        vertical-align: middle;\n",
       "    }\n",
       "\n",
       "    .dataframe tbody tr th {\n",
       "        vertical-align: top;\n",
       "    }\n",
       "\n",
       "    .dataframe thead th {\n",
       "        text-align: right;\n",
       "    }\n",
       "</style>\n",
       "<table border=\"1\" class=\"dataframe\">\n",
       "  <thead>\n",
       "    <tr style=\"text-align: right;\">\n",
       "      <th></th>\n",
       "      <th>Post_timestamp</th>\n",
       "      <th>Engagement_rate</th>\n",
       "    </tr>\n",
       "  </thead>\n",
       "  <tbody>\n",
       "    <tr>\n",
       "      <th>0</th>\n",
       "      <td>January</td>\n",
       "      <td>4159.17</td>\n",
       "    </tr>\n",
       "    <tr>\n",
       "      <th>1</th>\n",
       "      <td>February</td>\n",
       "      <td>2589.53</td>\n",
       "    </tr>\n",
       "    <tr>\n",
       "      <th>2</th>\n",
       "      <td>March</td>\n",
       "      <td>3898.38</td>\n",
       "    </tr>\n",
       "    <tr>\n",
       "      <th>3</th>\n",
       "      <td>April</td>\n",
       "      <td>3130.38</td>\n",
       "    </tr>\n",
       "    <tr>\n",
       "      <th>4</th>\n",
       "      <td>May</td>\n",
       "      <td>4091.81</td>\n",
       "    </tr>\n",
       "    <tr>\n",
       "      <th>5</th>\n",
       "      <td>June</td>\n",
       "      <td>3681.72</td>\n",
       "    </tr>\n",
       "    <tr>\n",
       "      <th>6</th>\n",
       "      <td>July</td>\n",
       "      <td>4140.12</td>\n",
       "    </tr>\n",
       "    <tr>\n",
       "      <th>7</th>\n",
       "      <td>August</td>\n",
       "      <td>3727.17</td>\n",
       "    </tr>\n",
       "    <tr>\n",
       "      <th>8</th>\n",
       "      <td>September</td>\n",
       "      <td>4326.03</td>\n",
       "    </tr>\n",
       "    <tr>\n",
       "      <th>9</th>\n",
       "      <td>October</td>\n",
       "      <td>3406.34</td>\n",
       "    </tr>\n",
       "    <tr>\n",
       "      <th>10</th>\n",
       "      <td>November</td>\n",
       "      <td>2952.04</td>\n",
       "    </tr>\n",
       "    <tr>\n",
       "      <th>11</th>\n",
       "      <td>December</td>\n",
       "      <td>3165.55</td>\n",
       "    </tr>\n",
       "  </tbody>\n",
       "</table>\n",
       "</div>"
      ],
      "text/plain": [
       "   Post_timestamp  Engagement_rate\n",
       "0         January          4159.17\n",
       "1        February          2589.53\n",
       "2           March          3898.38\n",
       "3           April          3130.38\n",
       "4             May          4091.81\n",
       "5            June          3681.72\n",
       "6            July          4140.12\n",
       "7          August          3727.17\n",
       "8       September          4326.03\n",
       "9         October          3406.34\n",
       "10       November          2952.04\n",
       "11       December          3165.55"
      ]
     },
     "execution_count": 156,
     "metadata": {},
     "output_type": "execute_result"
    }
   ],
   "source": [
    "monthly_eng"
   ]
  },
  {
   "cell_type": "code",
   "execution_count": 157,
   "metadata": {},
   "outputs": [
    {
     "name": "stderr",
     "output_type": "stream",
     "text": [
      "C:\\Users\\amald\\AppData\\Local\\Temp\\ipykernel_12708\\431493491.py:2: FutureWarning: \n",
      "\n",
      "Passing `palette` without assigning `hue` is deprecated and will be removed in v0.14.0. Assign the `x` variable to `hue` and set `legend=False` for the same effect.\n",
      "\n",
      "  sns.barplot(data=monthly_eng, x='Post_timestamp', y='Engagement_rate', palette='viridis_r')\n"
     ]
    },
    {
     "data": {
      "image/png": "[encoded data removed]",
      "text/plain": [
       "<Figure size 1200x400 with 1 Axes>"
      ]
     },
     "metadata": {},
     "output_type": "display_data"
    }
   ],
   "source": [
    "plt.figure(figsize=(12,4))\n",
    "sns.barplot(data=monthly_eng, x='Post_timestamp', y='Engagement_rate', palette='viridis_r')\n",
    "plt.title('Engagement Rate per Month')\n",
    "plt.xlabel('Months')\n",
    "plt.ylabel('Engagement Rate')\n",
    "plt.show()"
   ]
  },
  {
   "cell_type": "markdown",
   "metadata": {},
   "source": [
    "Based on the Indian calendar, the social media bar chart indicates that the biggest engagement rates occur in January, July, and September. January is a month of great user activity because of the beginning of the year and holidays like Republic Day. People are more interested in new content and holiday posts. The rainy month of July sees high engagement because people remain inside and use the internet more, and because holidays like Raksha Bandhan encourage social connection. September keeps up this high level of engagement, with big festivals like Ganesh Chaturthi and Onam encouraging a lot of people to participate. In order to optimize reach and interaction, brands can take advantage of these periods of high engagement by scheduling their major ads and promotions throughout these months."
   ]
  },
  {
   "cell_type": "code",
   "execution_count": 158,
   "metadata": {},
   "outputs": [
    {
     "data": {
      "text/html": [
       "<div>\n",
       "<style scoped>\n",
       "    .dataframe tbody tr th:only-of-type {\n",
       "        vertical-align: middle;\n",
       "    }\n",
       "\n",
       "    .dataframe tbody tr th {\n",
       "        vertical-align: top;\n",
       "    }\n",
       "\n",
       "    .dataframe thead th {\n",
       "        text-align: right;\n",
       "    }\n",
       "</style>\n",
       "<table border=\"1\" class=\"dataframe\">\n",
       "  <thead>\n",
       "    <tr style=\"text-align: right;\">\n",
       "      <th></th>\n",
       "      <th>Platform</th>\n",
       "      <th>Post_id</th>\n",
       "      <th>Post_type</th>\n",
       "      <th>Post_content</th>\n",
       "      <th>Post_timestamp</th>\n",
       "      <th>Likes</th>\n",
       "      <th>Comments</th>\n",
       "      <th>Shares</th>\n",
       "      <th>Impressions</th>\n",
       "      <th>Reach</th>\n",
       "      <th>Engagement_rate</th>\n",
       "      <th>Audience_age</th>\n",
       "      <th>Audience_gender</th>\n",
       "      <th>Audience_location</th>\n",
       "      <th>Audience_interests</th>\n",
       "      <th>Sentiment</th>\n",
       "    </tr>\n",
       "  </thead>\n",
       "  <tbody>\n",
       "    <tr>\n",
       "      <th>118</th>\n",
       "      <td>Instagram</td>\n",
       "      <td>91924a08-f836-4887-8a33-88c83577a6eb</td>\n",
       "      <td>Video</td>\n",
       "      <td>Station weight rule today.</td>\n",
       "      <td>2023-09-15 05:51:01</td>\n",
       "      <td>102</td>\n",
       "      <td>339</td>\n",
       "      <td>191</td>\n",
       "      <td>9035</td>\n",
       "      <td>3820</td>\n",
       "      <td>16.54</td>\n",
       "      <td>51</td>\n",
       "      <td>Other</td>\n",
       "      <td>Cyprus</td>\n",
       "      <td>dog</td>\n",
       "      <td>Positive</td>\n",
       "    </tr>\n",
       "    <tr>\n",
       "      <th>157</th>\n",
       "      <td>Facebook</td>\n",
       "      <td>854dcd1e-e09c-4683-ba10-bd231140fff9</td>\n",
       "      <td>Video</td>\n",
       "      <td>End for wait since every city career sort.</td>\n",
       "      <td>2021-07-29 16:32:27</td>\n",
       "      <td>695</td>\n",
       "      <td>326</td>\n",
       "      <td>69</td>\n",
       "      <td>1349</td>\n",
       "      <td>1024</td>\n",
       "      <td>106.45</td>\n",
       "      <td>44</td>\n",
       "      <td>Female</td>\n",
       "      <td>Martinique</td>\n",
       "      <td>according</td>\n",
       "      <td>Neutral</td>\n",
       "    </tr>\n",
       "  </tbody>\n",
       "</table>\n",
       "</div>"
      ],
      "text/plain": [
       "      Platform                               Post_id Post_type  \\\n",
       "118  Instagram  91924a08-f836-4887-8a33-88c83577a6eb     Video   \n",
       "157   Facebook  854dcd1e-e09c-4683-ba10-bd231140fff9     Video   \n",
       "\n",
       "                                   Post_content      Post_timestamp  Likes  \\\n",
       "118                  Station weight rule today. 2023-09-15 05:51:01    102   \n",
       "157  End for wait since every city career sort. 2021-07-29 16:32:27    695   \n",
       "\n",
       "     Comments  Shares  Impressions  Reach  Engagement_rate  Audience_age  \\\n",
       "118       339     191         9035   3820            16.54            51   \n",
       "157       326      69         1349   1024           106.45            44   \n",
       "\n",
       "    Audience_gender Audience_location Audience_interests Sentiment  \n",
       "118           Other            Cyprus                dog  Positive  \n",
       "157          Female        Martinique          according   Neutral  "
      ]
     },
     "execution_count": 158,
     "metadata": {},
     "output_type": "execute_result"
    }
   ],
   "source": [
    "df.head(2)"
   ]
  },
  {
   "cell_type": "markdown",
   "metadata": {},
   "source": [
    "## *Identifying Which Age group has mostly liked on social media ?*"
   ]
  },
  {
   "cell_type": "code",
   "execution_count": 159,
   "metadata": {},
   "outputs": [
    {
     "data": {
      "text/plain": [
       "65"
      ]
     },
     "execution_count": 159,
     "metadata": {},
     "output_type": "execute_result"
    }
   ],
   "source": [
    "df['Audience_age'].max()"
   ]
  },
  {
   "cell_type": "code",
   "execution_count": 160,
   "metadata": {},
   "outputs": [
    {
     "name": "stderr",
     "output_type": "stream",
     "text": [
      "C:\\Users\\amald\\AppData\\Local\\Temp\\ipykernel_12708\\1092304169.py:14: SettingWithCopyWarning: \n",
      "A value is trying to be set on a copy of a slice from a DataFrame.\n",
      "Try using .loc[row_indexer,col_indexer] = value instead\n",
      "\n",
      "See the caveats in the documentation: https://pandas.pydata.org/pandas-docs/stable/user_guide/indexing.html#returning-a-view-versus-a-copy\n",
      "  df['Age_group']=df['Audience_age'].apply(group)\n"
     ]
    }
   ],
   "source": [
    "def group(val):\n",
    "    if(val>=18 and val <=25):\n",
    "        return('18_to_25')\n",
    "    elif(val>25 and val <=30):\n",
    "        return('25_to_30')\n",
    "    elif(val>30 and val <=40):\n",
    "        return('30_to_40')\n",
    "    elif(val>40 and val <=50):\n",
    "        return('40_to_50')\n",
    "    elif(val>50 and val <=60):\n",
    "        return('50_to_60')\n",
    "    elif(val>60 and val <=70):\n",
    "        return('60_to_70')\n",
    "df['Age_group']=df['Audience_age'].apply(group)"
   ]
  },
  {
   "cell_type": "code",
   "execution_count": 161,
   "metadata": {},
   "outputs": [],
   "source": [
    "dfl=df.groupby('Age_group')['Likes'].sum().reset_index()"
   ]
  },
  {
   "cell_type": "code",
   "execution_count": 162,
   "metadata": {},
   "outputs": [],
   "source": [
    "x=np.unique(df['Age_group'])\n",
    "y=dfl['Likes'].values"
   ]
  },
  {
   "cell_type": "code",
   "execution_count": 163,
   "metadata": {},
   "outputs": [
    {
     "data": {
      "text/html": [
       "<div>\n",
       "<style scoped>\n",
       "    .dataframe tbody tr th:only-of-type {\n",
       "        vertical-align: middle;\n",
       "    }\n",
       "\n",
       "    .dataframe tbody tr th {\n",
       "        vertical-align: top;\n",
       "    }\n",
       "\n",
       "    .dataframe thead th {\n",
       "        text-align: right;\n",
       "    }\n",
       "</style>\n",
       "<table border=\"1\" class=\"dataframe\">\n",
       "  <thead>\n",
       "    <tr style=\"text-align: right;\">\n",
       "      <th></th>\n",
       "      <th>Age_group</th>\n",
       "      <th>Likes</th>\n",
       "    </tr>\n",
       "  </thead>\n",
       "  <tbody>\n",
       "    <tr>\n",
       "      <th>0</th>\n",
       "      <td>18_to_25</td>\n",
       "      <td>87974</td>\n",
       "    </tr>\n",
       "    <tr>\n",
       "      <th>1</th>\n",
       "      <td>25_to_30</td>\n",
       "      <td>50855</td>\n",
       "    </tr>\n",
       "    <tr>\n",
       "      <th>2</th>\n",
       "      <td>30_to_40</td>\n",
       "      <td>107829</td>\n",
       "    </tr>\n",
       "    <tr>\n",
       "      <th>3</th>\n",
       "      <td>40_to_50</td>\n",
       "      <td>92231</td>\n",
       "    </tr>\n",
       "    <tr>\n",
       "      <th>4</th>\n",
       "      <td>50_to_60</td>\n",
       "      <td>113356</td>\n",
       "    </tr>\n",
       "    <tr>\n",
       "      <th>5</th>\n",
       "      <td>60_to_70</td>\n",
       "      <td>52626</td>\n",
       "    </tr>\n",
       "  </tbody>\n",
       "</table>\n",
       "</div>"
      ],
      "text/plain": [
       "  Age_group   Likes\n",
       "0  18_to_25   87974\n",
       "1  25_to_30   50855\n",
       "2  30_to_40  107829\n",
       "3  40_to_50   92231\n",
       "4  50_to_60  113356\n",
       "5  60_to_70   52626"
      ]
     },
     "execution_count": 163,
     "metadata": {},
     "output_type": "execute_result"
    }
   ],
   "source": [
    "dfl.reindex()"
   ]
  },
  {
   "cell_type": "code",
   "execution_count": 164,
   "metadata": {},
   "outputs": [
    {
     "name": "stderr",
     "output_type": "stream",
     "text": [
      "C:\\Users\\amald\\AppData\\Local\\Temp\\ipykernel_12708\\781711299.py:2: FutureWarning: \n",
      "\n",
      "Passing `palette` without assigning `hue` is deprecated and will be removed in v0.14.0. Assign the `x` variable to `hue` and set `legend=False` for the same effect.\n",
      "\n",
      "  sns.barplot(x=x, y=y, palette='viridis_r')\n"
     ]
    },
    {
     "data": {
      "image/png": "[encoded data removed]",
      "text/plain": [
       "<Figure size 1200x400 with 1 Axes>"
      ]
     },
     "metadata": {},
     "output_type": "display_data"
    }
   ],
   "source": [
    "plt.figure(figsize=(12,4))\n",
    "sns.barplot(x=x, y=y, palette='viridis_r')\n",
    "plt.title('Audience Age by likes')\n",
    "plt.xlabel('Age_group')\n",
    "plt.ylabel('Likes')\n",
    "plt.show()"
   ]
  },
  {
   "cell_type": "markdown",
   "metadata": {},
   "source": [
    "Based on the graph analysis, the age groups of 50 to 60 years and the second highest group, 30 to 40 years, demonstrate the highest levels of appreciation for social media posts. These demographics consistently show a strong preference for liking content across various social media platforms, indicating a significant engagement with online content. This trend underscores the importance of creating targeted and appealing posts that resonate with the interests and lifestyles of these age groups. By focusing on content that appeals to their preferences and values, marketers can effectively enhance engagement and interaction, thereby maximizing the impact of their social media strategies."
   ]
  },
  {
   "cell_type": "markdown",
   "metadata": {},
   "source": [
    "## *Identifying which Age group has mostly engeged on social media ?* "
   ]
  },
  {
   "cell_type": "code",
   "execution_count": 165,
   "metadata": {},
   "outputs": [],
   "source": [
    "dfq=df.groupby('Age_group')['Engagement_rate'].sum().reset_index()"
   ]
  },
  {
   "cell_type": "code",
   "execution_count": 166,
   "metadata": {},
   "outputs": [],
   "source": [
    "y=dfq['Engagement_rate'].values"
   ]
  },
  {
   "cell_type": "code",
   "execution_count": 167,
   "metadata": {},
   "outputs": [],
   "source": [
    "x=np.unique(df['Age_group'])"
   ]
  },
  {
   "cell_type": "code",
   "execution_count": 168,
   "metadata": {},
   "outputs": [
    {
     "data": {
      "text/html": [
       "<div>\n",
       "<style scoped>\n",
       "    .dataframe tbody tr th:only-of-type {\n",
       "        vertical-align: middle;\n",
       "    }\n",
       "\n",
       "    .dataframe tbody tr th {\n",
       "        vertical-align: top;\n",
       "    }\n",
       "\n",
       "    .dataframe thead th {\n",
       "        text-align: right;\n",
       "    }\n",
       "</style>\n",
       "<table border=\"1\" class=\"dataframe\">\n",
       "  <thead>\n",
       "    <tr style=\"text-align: right;\">\n",
       "      <th></th>\n",
       "      <th>Age_group</th>\n",
       "      <th>Engagement_rate</th>\n",
       "    </tr>\n",
       "  </thead>\n",
       "  <tbody>\n",
       "    <tr>\n",
       "      <th>0</th>\n",
       "      <td>18_to_25</td>\n",
       "      <td>7372.43</td>\n",
       "    </tr>\n",
       "    <tr>\n",
       "      <th>1</th>\n",
       "      <td>25_to_30</td>\n",
       "      <td>4555.45</td>\n",
       "    </tr>\n",
       "    <tr>\n",
       "      <th>2</th>\n",
       "      <td>30_to_40</td>\n",
       "      <td>9496.86</td>\n",
       "    </tr>\n",
       "    <tr>\n",
       "      <th>3</th>\n",
       "      <td>40_to_50</td>\n",
       "      <td>8667.50</td>\n",
       "    </tr>\n",
       "    <tr>\n",
       "      <th>4</th>\n",
       "      <td>50_to_60</td>\n",
       "      <td>9226.79</td>\n",
       "    </tr>\n",
       "    <tr>\n",
       "      <th>5</th>\n",
       "      <td>60_to_70</td>\n",
       "      <td>3949.21</td>\n",
       "    </tr>\n",
       "  </tbody>\n",
       "</table>\n",
       "</div>"
      ],
      "text/plain": [
       "  Age_group  Engagement_rate\n",
       "0  18_to_25          7372.43\n",
       "1  25_to_30          4555.45\n",
       "2  30_to_40          9496.86\n",
       "3  40_to_50          8667.50\n",
       "4  50_to_60          9226.79\n",
       "5  60_to_70          3949.21"
      ]
     },
     "execution_count": 168,
     "metadata": {},
     "output_type": "execute_result"
    }
   ],
   "source": [
    "dfq"
   ]
  },
  {
   "cell_type": "code",
   "execution_count": 169,
   "metadata": {},
   "outputs": [
    {
     "name": "stderr",
     "output_type": "stream",
     "text": [
      "C:\\Users\\amald\\AppData\\Local\\Temp\\ipykernel_12708\\788059588.py:2: FutureWarning: \n",
      "\n",
      "Passing `palette` without assigning `hue` is deprecated and will be removed in v0.14.0. Assign the `x` variable to `hue` and set `legend=False` for the same effect.\n",
      "\n",
      "  sns.barplot(x=x, y=y, palette='viridis_r')\n"
     ]
    },
    {
     "data": {
      "image/png": "[encoded data removed]",
      "text/plain": [
       "<Figure size 1200x400 with 1 Axes>"
      ]
     },
     "metadata": {},
     "output_type": "display_data"
    }
   ],
   "source": [
    "plt.figure(figsize=(12,4))\n",
    "sns.barplot(x=x, y=y, palette='viridis_r')\n",
    "plt.title('Audience Age by Engagement rate')\n",
    "plt.xlabel('Age_group')\n",
    "plt.ylabel('Engagement_rate')\n",
    "plt.show()"
   ]
  },
  {
   "cell_type": "markdown",
   "metadata": {},
   "source": [
    "The graph indicates that the age groups with the highest social media involvement rates are those between 30 and 40 years old and those between 50 and 60 years old. These groups of people engage in active online interactions, such as sharing, liking, and commenting on posts. Their high levels of interaction imply that they perceive social media content to be very interesting and relevant, which makes them an important target demographic for marketers and content producers. Social media tactics may be adjusted to encourage even more engagement and create closer bonds by taking into account the tastes and actions of various age groups. Concentrating on these important groups of people can boost brand loyalty and improve message deliver"
   ]
  },
  {
   "cell_type": "markdown",
   "metadata": {},
   "source": [
    "## *Identifying which gender category mostly engaged on social media ?* "
   ]
  },
  {
   "cell_type": "code",
   "execution_count": 170,
   "metadata": {},
   "outputs": [
    {
     "data": {
      "text/html": [
       "<div>\n",
       "<style scoped>\n",
       "    .dataframe tbody tr th:only-of-type {\n",
       "        vertical-align: middle;\n",
       "    }\n",
       "\n",
       "    .dataframe tbody tr th {\n",
       "        vertical-align: top;\n",
       "    }\n",
       "\n",
       "    .dataframe thead th {\n",
       "        text-align: right;\n",
       "    }\n",
       "</style>\n",
       "<table border=\"1\" class=\"dataframe\">\n",
       "  <thead>\n",
       "    <tr style=\"text-align: right;\">\n",
       "      <th></th>\n",
       "      <th>Audience_gender</th>\n",
       "      <th>Engagement_rate</th>\n",
       "    </tr>\n",
       "  </thead>\n",
       "  <tbody>\n",
       "    <tr>\n",
       "      <th>0</th>\n",
       "      <td>Female</td>\n",
       "      <td>14365.61</td>\n",
       "    </tr>\n",
       "    <tr>\n",
       "      <th>1</th>\n",
       "      <td>Male</td>\n",
       "      <td>13634.59</td>\n",
       "    </tr>\n",
       "    <tr>\n",
       "      <th>2</th>\n",
       "      <td>Other</td>\n",
       "      <td>15268.04</td>\n",
       "    </tr>\n",
       "  </tbody>\n",
       "</table>\n",
       "</div>"
      ],
      "text/plain": [
       "  Audience_gender  Engagement_rate\n",
       "0          Female         14365.61\n",
       "1            Male         13634.59\n",
       "2           Other         15268.04"
      ]
     },
     "execution_count": 170,
     "metadata": {},
     "output_type": "execute_result"
    }
   ],
   "source": [
    "df11=df.groupby('Audience_gender')['Engagement_rate'].sum().reset_index()\n",
    "df11"
   ]
  },
  {
   "cell_type": "code",
   "execution_count": 171,
   "metadata": {},
   "outputs": [],
   "source": [
    "df11tot=df11['Engagement_rate'].sum()"
   ]
  },
  {
   "cell_type": "code",
   "execution_count": 172,
   "metadata": {},
   "outputs": [],
   "source": [
    "df11['Engagement_rate']=df11['Engagement_rate'].apply(lambda x :round(x *100/df11tot,1))"
   ]
  },
  {
   "cell_type": "code",
   "execution_count": 173,
   "metadata": {},
   "outputs": [
    {
     "data": {
      "text/html": [
       "<div>\n",
       "<style scoped>\n",
       "    .dataframe tbody tr th:only-of-type {\n",
       "        vertical-align: middle;\n",
       "    }\n",
       "\n",
       "    .dataframe tbody tr th {\n",
       "        vertical-align: top;\n",
       "    }\n",
       "\n",
       "    .dataframe thead th {\n",
       "        text-align: right;\n",
       "    }\n",
       "</style>\n",
       "<table border=\"1\" class=\"dataframe\">\n",
       "  <thead>\n",
       "    <tr style=\"text-align: right;\">\n",
       "      <th></th>\n",
       "      <th>Audience_gender</th>\n",
       "      <th>Engagement_rate</th>\n",
       "    </tr>\n",
       "  </thead>\n",
       "  <tbody>\n",
       "    <tr>\n",
       "      <th>0</th>\n",
       "      <td>Female</td>\n",
       "      <td>33.2</td>\n",
       "    </tr>\n",
       "    <tr>\n",
       "      <th>1</th>\n",
       "      <td>Male</td>\n",
       "      <td>31.5</td>\n",
       "    </tr>\n",
       "    <tr>\n",
       "      <th>2</th>\n",
       "      <td>Other</td>\n",
       "      <td>35.3</td>\n",
       "    </tr>\n",
       "  </tbody>\n",
       "</table>\n",
       "</div>"
      ],
      "text/plain": [
       "  Audience_gender  Engagement_rate\n",
       "0          Female             33.2\n",
       "1            Male             31.5\n",
       "2           Other             35.3"
      ]
     },
     "execution_count": 173,
     "metadata": {},
     "output_type": "execute_result"
    }
   ],
   "source": [
    "df11"
   ]
  },
  {
   "cell_type": "code",
   "execution_count": 174,
   "metadata": {},
   "outputs": [
    {
     "data": {
      "image/png": "[encoded data removed]",
      "text/plain": [
       "<Figure size 640x480 with 1 Axes>"
      ]
     },
     "metadata": {},
     "output_type": "display_data"
    }
   ],
   "source": [
    "# Importing libraries \n",
    "import matplotlib.pyplot as plt\n",
    "import seaborn as sns\n",
    "\n",
    "# Declaring data\n",
    "\n",
    "# sample data, replace with your own\n",
    "data = [33.2,31.5,35.3]\n",
    "\n",
    "# labels for data, replace with your own\n",
    "keys = ['Female', 'Male', 'Other']\n",
    "\n",
    "# Plotting data on chart\n",
    "plt.pie(data, labels=keys, autopct='%.0f%%')\n",
    "\n",
    "# Add title to the chart\n",
    "plt.title('Engagement Rate by Audience Genders')\n",
    "\n",
    "# Displaying chart\n",
    "plt.show()"
   ]
  },
  {
   "cell_type": "markdown",
   "metadata": {},
   "source": []
  },
  {
   "cell_type": "markdown",
   "metadata": {},
   "source": [
    "Based on the data, the \"Others\" gender category demonstrates the highest engagement on social media, accounting for 35% of the total engagement. Following this, females engage at a rate of 33%, while males account for 31% of social media engagement. This indicates that individuals identifying outside the traditional male and female categories are the most active participants on social media platforms. Recognizing this high level of engagement emphasizes the importance of creating inclusive and diverse content that resonates with a broader range of gender identities, thereby fostering a more welcoming and engaging online environment for all users."
   ]
  },
  {
   "cell_type": "markdown",
   "metadata": {},
   "source": [
    "## ---------------------------------------------------------------------------------------------------------"
   ]
  },
  {
   "cell_type": "markdown",
   "metadata": {},
   "source": [
    "## *Identifying What are the top ten countries with the highest social media engagement*"
   ]
  },
  {
   "cell_type": "code",
   "execution_count": 175,
   "metadata": {},
   "outputs": [
    {
     "data": {
      "image/png": "[encoded data removed]",
      "text/plain": [
       "<Figure size 1000x400 with 1 Axes>"
      ]
     },
     "metadata": {},
     "output_type": "display_data"
    }
   ],
   "source": [
    "# df['Audience_location'].value_counts().head(10)\n",
    "\n",
    "top_countries_engagement= df.groupby('Audience_location')['Engagement_rate'].mean().nlargest(10)\n",
    "plt.figure(figsize=(10, 4))\n",
    "top_countries_engagement.plot(kind='barh')\n",
    "plt.title('Top 10 Countries with the Highest Engagement Rate')\n",
    "plt.xlabel('Country')\n",
    "plt.ylabel('Average Engagement Rate')\n",
    "plt.xticks(rotation=50)\n",
    "plt.show()"
   ]
  },
  {
   "cell_type": "markdown",
   "metadata": {},
   "source": [
    "The bar chart shows the top 10 countries with the highest average social media engagement rates. New Caledonia leads significantly with an engagement rate surpassing 175. Reunion and Heard Island and McDonald Islands also exhibit high engagement, each nearing 100. Barbados and Guernsey follow, both exceeding 75. Other countries, including Panama, Mayotte, the Dominican Republic, Nepal, and France, have engagement rates averaging around 50 to 60. This indicates that small island nations and territories tend to have higher social media interaction levels."
   ]
  },
  {
   "cell_type": "markdown",
   "metadata": {},
   "source": []
  },
  {
   "cell_type": "markdown",
   "metadata": {},
   "source": [
    "## *Identifying audience emotions*"
   ]
  },
  {
   "cell_type": "code",
   "execution_count": 177,
   "metadata": {},
   "outputs": [
    {
     "name": "stderr",
     "output_type": "stream",
     "text": [
      "C:\\Users\\amald\\AppData\\Local\\Temp\\ipykernel_12708\\2264774155.py:2: FutureWarning: \n",
      "\n",
      "Passing `palette` without assigning `hue` is deprecated and will be removed in v0.14.0. Assign the `x` variable to `hue` and set `legend=False` for the same effect.\n",
      "\n",
      "  sns.countplot(x='Sentiment',palette='Set2', data=df)\n"
     ]
    },
    {
     "data": {
      "image/png": "[encoded data removed]",
      "text/plain": [
       "<Figure size 1000x400 with 1 Axes>"
      ]
     },
     "metadata": {},
     "output_type": "display_data"
    }
   ],
   "source": [
    "plt.figure(figsize=(10, 4))\n",
    "sns.countplot(x='Sentiment',palette='Set2', data=df)\n",
    "plt.title('Sentiment Distribution')\n",
    "plt.xlabel('Sentiment')\n",
    "plt.ylabel('Count')\n",
    "plt.show()"
   ]
  },
  {
   "cell_type": "markdown",
   "metadata": {},
   "source": [
    "The bar chart illustrates the sentiment distribution across three categories: positive, neutral, and negative. The counts are fairly balanced, with positive sentiments leading slightly at around 350, followed closely by negative sentiments, also nearing 350. Neutral sentiments are just under these, indicating a slightly lower but still significant presence. This distribution suggests a diverse range of emotional responses, with audiences expressing a wide spectrum of opinions. The balance between positive and negative sentiments reflects a nuanced perception, while the substantial neutral count highlights a considerable portion of ambivalent or mixed feelings. Understanding this distribution can be valuable for tailoring communication strategies to address varied audience sentiments effectively."
   ]
  },
  {
   "cell_type": "markdown",
   "metadata": {},
   "source": [
    "### Conclusion on Social Media Engagement Data\n",
    "\n",
    "The social media engagement data provides valuable insights into user interactions across various platforms, highlighting significant trends and patterns that can inform digital strategies. Key observations include:\n",
    "\n",
    "1. **Gender Dynamics**: Females exhibit the highest engagement rates on platforms like Facebook, Instagram, and LinkedIn, with the \"Other\" gender category showing significant activity, particularly on Twitter.\n",
    "2. **Platform Engagement**: Instagram leads in overall engagement, followed by LinkedIn and Twitter, with Facebook maintaining a strong presence despite slightly lower rates.\n",
    "3. **Content Types**: Visual content, including images and videos, dominates engagement, while links are also popular but slightly less favored.\n",
    "4. **Engagement Days**: Thursdays, along with Tuesdays and Fridays, show peak engagement, suggesting optimal times for posting content to maximize visibility.\n",
    "5. **Monthly and Seasonal Trends**: March, June, and July see the highest reach, influenced by seasonal trends and key events. In the Indian context, the second and third quarters have the most reach, driven by festivals and the monsoon season.\n",
    "6. **Age Groups**: The 30-40 and 50-60 age groups exhibit the highest social media involvement, making them crucial target demographics for marketers.\n",
    "7. **Global Engagement**: Smaller nations and territories like New Caledonia and Reunion demonstrate high engagement rates, reflecting unique regional interaction patterns.\n",
    "8. **Sentiment Distribution**: Positive sentiments lead slightly, followed closely by negative and neutral sentiments, indicating a balanced emotional response from users.\n",
    "\n",
    "#### Merits of Social Media Usage\n",
    "- **Enhanced Connectivity**: Social media enables users to connect with friends, family, and communities globally, fostering relationships and networking opportunities.\n",
    "- **Marketing and Brand Awareness**: Businesses can reach a broader audience, engage with customers, and build brand loyalty through targeted social media strategies.\n",
    "- **Information and News**: Platforms provide instant access to news, trends, and information, keeping users informed and up-to-date.\n",
    "- **Creativity and Expression**: Social media offers a space for users to share their creativity, ideas, and opinions, promoting self-expression and innovation.\n",
    "\n",
    "#### Demerits of Social Media Usage\n",
    "- **Privacy Concerns**: Users often share personal information, which can be misused or lead to privacy breaches.\n",
    "- **Mental Health Impact**: Excessive use can lead to anxiety, depression, and other mental health issues due to comparison, cyberbullying, and online harassment.\n",
    "- **Misinformation**: The rapid spread of false information and fake news can lead to misunderstanding and misinformation.\n",
    "- **Addiction and Time Consumption**: Social media can be addictive, leading to excessive screen time and distraction from productive activities.\n",
    "\n",
    "### Conclusion\n",
    "\n",
    "Social media is a powerful tool for communication, marketing, and engagement, offering numerous benefits while also presenting challenges that need to be managed. By understanding the engagement patterns and user behaviors, individuals and businesses can optimize their social media strategies to enhance interaction and achieve their objectives effectively.\n",
    "\n",
    "---\n",
    "\n",
    "By analyzing these trends and understanding the underlying dynamics, brands and marketers can develop more informed and effective strategies to engage their audiences and maximize their social media impact.\n"
   ]
  },
  {
   "cell_type": "markdown",
   "metadata": {},
   "source": [
    "-----------------------------------------------------------------------------------------------------------------------------------"
   ]
  }
 ],
 "metadata": {
  "kernelspec": {
   "display_name": "Python 3",
   "language": "python",
   "name": "python3"
  },
  "language_info": {
   "codemirror_mode": {
    "name": "ipython",
    "version": 3
   },
   "file_extension": ".py",
   "mimetype": "text/x-python",
   "name": "python",
   "nbconvert_exporter": "python",
   "pygments_lexer": "ipython3",
   "version": "3.10.11"
  }
 },
 "nbformat": 4,
 "nbformat_minor": 2
}
